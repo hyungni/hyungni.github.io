{
  "cells": [
    {
      "cell_type": "markdown",
      "metadata": {
        "id": "view-in-github",
        "colab_type": "text"
      },
      "source": [
        "<a href=\"https://colab.research.google.com/github/hyungni/hyungni.github.io/blob/main/1_8_%EB%A8%B8%EC%8B%A0%EB%9F%AC%EB%8B%9D_%EC%84%B1%EB%8A%A5_%EC%B5%9C%EC%A0%81%ED%99%94_ipynb%EC%9D%98_%EC%82%AC%EB%B3%B8.ipynb\" target=\"_parent\"><img src=\"https://colab.research.google.com/assets/colab-badge.svg\" alt=\"Open In Colab\"/></a>"
      ]
    },
    {
      "cell_type": "markdown",
      "metadata": {
        "collapsed": true,
        "id": "lFxDgK36aXJe",
        "jupyter": {
          "outputs_hidden": true
        }
      },
      "source": [
        "# [Hyperparameter Optimization (HPO) of Machine Learning Models](https://github.com/LiYangHart/Hyperparameter-Optimization-of-Machine-Learning-Algorithms)\n",
        "L. Yang and A. Shami, “On hyperparameter optimization of machine learning algorithms: Theory and practice,” Neurocomputing, vol. 415, pp. 295–316, 2020, doi: https://doi.org/10.1016/j.neucom.2020.07.061.\n",
        "\n",
        "### **회귀 문제를 위한 예제 코드**\n",
        "**Dataset used:**\n",
        "&nbsp; California Housing dataset from kaggle\n",
        "\n",
        "**Machine learning algorithms used:**\n",
        "&nbsp; Random forest (RF), support vector machine (SVM), k-nearest neighbor (KNN), artificial neural network (ANN)\n",
        "\n",
        "**HPO algorithms used:**\n",
        "&nbsp; Grid search, random search, Successive Halving, Bayesian Optimization with Gaussian Processes (BO-GP)\n",
        "\n",
        "**Performance metric:**\n",
        "&nbsp; Mean square error (MSE)"
      ]
    },
    {
      "cell_type": "markdown",
      "metadata": {
        "id": "g7mW88rKhY4g"
      },
      "source": [
        "__사내 PC 실습 안내__\n",
        "- 본 실습은 외부 라이브러리를 설치하는 내용이 포함되어 있습니다.\n",
        "- 사내 PC에서 외부 라이브러리 설치 시, SSL 인증 오류가 발생할 수 있습니다.\n",
        "- 아래 코드와 같이, pypi 서버 신뢰 옵션을 추가하여 SSL 인증을 생략합니다.\n",
        "- 따라서, 내용은 영상 강의와 다를 수 있습니다.\n",
        "\n",
        "```cmd\n",
        "pip install --trusted-host pypi.python.org --trusted-host files.pythonhosted.org --trusted-host pypi.org -U [설치할 패키지 명]\n",
        "```\n"
      ]
    },
    {
      "cell_type": "code",
      "execution_count": null,
      "metadata": {
        "colab": {
          "base_uri": "https://localhost:8080/",
          "height": 1000
        },
        "id": "uE6x14WTLHvx",
        "outputId": "8115835f-a805-453a-fe44-3fbdd8a40283"
      },
      "outputs": [
        {
          "output_type": "stream",
          "name": "stdout",
          "text": [
            "Collecting scikit-optimize\n",
            "  Downloading scikit_optimize-0.10.1-py2.py3-none-any.whl (107 kB)\n",
            "\u001b[2K     \u001b[90m━━━━━━━━━━━━━━━━━━━━━━━━━━━━━━━━━━━━━━━━\u001b[0m \u001b[32m107.7/107.7 kB\u001b[0m \u001b[31m3.3 MB/s\u001b[0m eta \u001b[36m0:00:00\u001b[0m\n",
            "\u001b[?25hCollecting mljar-supervised\n",
            "  Downloading mljar-supervised-1.1.8.tar.gz (127 kB)\n",
            "\u001b[2K     \u001b[90m━━━━━━━━━━━━━━━━━━━━━━━━━━━━━━━━━━━━━━━━\u001b[0m \u001b[32m127.0/127.0 kB\u001b[0m \u001b[31m6.4 MB/s\u001b[0m eta \u001b[36m0:00:00\u001b[0m\n",
            "\u001b[?25h  Preparing metadata (setup.py) ... \u001b[?25l\u001b[?25hdone\n",
            "Collecting pycaret\n",
            "  Downloading pycaret-3.3.2-py3-none-any.whl (486 kB)\n",
            "\u001b[2K     \u001b[90m━━━━━━━━━━━━━━━━━━━━━━━━━━━━━━━━━━━━━━━━\u001b[0m \u001b[32m486.1/486.1 kB\u001b[0m \u001b[31m9.0 MB/s\u001b[0m eta \u001b[36m0:00:00\u001b[0m\n",
            "\u001b[?25hRequirement already satisfied: joblib>=0.11 in /usr/local/lib/python3.10/dist-packages (from scikit-optimize) (1.4.2)\n",
            "Collecting pyaml>=16.9 (from scikit-optimize)\n",
            "  Downloading pyaml-24.4.0-py3-none-any.whl (24 kB)\n",
            "Requirement already satisfied: numpy>=1.20.3 in /usr/local/lib/python3.10/dist-packages (from scikit-optimize) (1.23.5)\n",
            "Requirement already satisfied: scipy>=1.1.0 in /usr/local/lib/python3.10/dist-packages (from scikit-optimize) (1.11.4)\n",
            "Requirement already satisfied: scikit-learn>=1.0.0 in /usr/local/lib/python3.10/dist-packages (from scikit-optimize) (1.2.2)\n",
            "Requirement already satisfied: packaging>=21.3 in /usr/local/lib/python3.10/dist-packages (from scikit-optimize) (24.0)\n",
            "Requirement already satisfied: pandas>=2.0.0 in /usr/local/lib/python3.10/dist-packages (from mljar-supervised) (2.0.3)\n",
            "Requirement already satisfied: xgboost>=2.0.0 in /usr/local/lib/python3.10/dist-packages (from mljar-supervised) (2.0.3)\n",
            "Requirement already satisfied: lightgbm>=3.0.0 in /usr/local/lib/python3.10/dist-packages (from mljar-supervised) (4.1.0)\n",
            "Collecting catboost>=0.24.4 (from mljar-supervised)\n",
            "  Downloading catboost-1.2.5-cp310-cp310-manylinux2014_x86_64.whl (98.2 MB)\n",
            "\u001b[2K     \u001b[90m━━━━━━━━━━━━━━━━━━━━━━━━━━━━━━━━━━━━━━━━\u001b[0m \u001b[32m98.2/98.2 MB\u001b[0m \u001b[31m8.4 MB/s\u001b[0m eta \u001b[36m0:00:00\u001b[0m\n",
            "\u001b[?25hRequirement already satisfied: tabulate>=0.8.7 in /usr/local/lib/python3.10/dist-packages (from mljar-supervised) (0.9.0)\n",
            "Requirement already satisfied: matplotlib>=3.2.2 in /usr/local/lib/python3.10/dist-packages (from mljar-supervised) (3.7.1)\n",
            "Collecting dtreeviz>=2.2.2 (from mljar-supervised)\n",
            "  Downloading dtreeviz-2.2.2-py3-none-any.whl (91 kB)\n",
            "\u001b[2K     \u001b[90m━━━━━━━━━━━━━━━━━━━━━━━━━━━━━━━━━━━━━━━━\u001b[0m \u001b[32m91.8/91.8 kB\u001b[0m \u001b[31m12.2 MB/s\u001b[0m eta \u001b[36m0:00:00\u001b[0m\n",
            "\u001b[?25hCollecting shap>=0.42.1 (from mljar-supervised)\n",
            "  Downloading shap-0.45.1-cp310-cp310-manylinux_2_12_x86_64.manylinux2010_x86_64.manylinux_2_17_x86_64.manylinux2014_x86_64.whl (540 kB)\n",
            "\u001b[2K     \u001b[90m━━━━━━━━━━━━━━━━━━━━━━━━━━━━━━━━━━━━━━━━\u001b[0m \u001b[32m540.5/540.5 kB\u001b[0m \u001b[31m43.0 MB/s\u001b[0m eta \u001b[36m0:00:00\u001b[0m\n",
            "\u001b[?25hRequirement already satisfied: seaborn>=0.11.1 in /usr/local/lib/python3.10/dist-packages (from mljar-supervised) (0.13.1)\n",
            "Requirement already satisfied: wordcloud>=1.8.1 in /usr/local/lib/python3.10/dist-packages (from mljar-supervised) (1.9.3)\n",
            "Collecting category_encoders>=2.2.2 (from mljar-supervised)\n",
            "  Downloading category_encoders-2.6.3-py2.py3-none-any.whl (81 kB)\n",
            "\u001b[2K     \u001b[90m━━━━━━━━━━━━━━━━━━━━━━━━━━━━━━━━━━━━━━━━\u001b[0m \u001b[32m81.9/81.9 kB\u001b[0m \u001b[31m11.8 MB/s\u001b[0m eta \u001b[36m0:00:00\u001b[0m\n",
            "\u001b[?25hCollecting optuna>=2.7.0 (from mljar-supervised)\n",
            "  Downloading optuna-3.6.1-py3-none-any.whl (380 kB)\n",
            "\u001b[2K     \u001b[90m━━━━━━━━━━━━━━━━━━━━━━━━━━━━━━━━━━━━━━━━\u001b[0m \u001b[32m380.1/380.1 kB\u001b[0m \u001b[31m40.9 MB/s\u001b[0m eta \u001b[36m0:00:00\u001b[0m\n",
            "\u001b[?25hCollecting mljar-scikit-plot>=0.3.8 (from mljar-supervised)\n",
            "  Downloading mljar-scikit-plot-0.3.10.tar.gz (25 kB)\n",
            "  Preparing metadata (setup.py) ... \u001b[?25l\u001b[?25hdone\n",
            "Requirement already satisfied: markdown in /usr/local/lib/python3.10/dist-packages (from mljar-supervised) (3.6)\n",
            "Requirement already satisfied: typing-extensions in /usr/local/lib/python3.10/dist-packages (from mljar-supervised) (4.11.0)\n",
            "Requirement already satisfied: ipython in /usr/local/lib/python3.10/dist-packages (from mljar-supervised) (7.34.0)\n",
            "Requirement already satisfied: ipywidgets>=7.6.5 in /usr/local/lib/python3.10/dist-packages (from pycaret) (7.7.1)\n",
            "Requirement already satisfied: tqdm>=4.62.0 in /usr/local/lib/python3.10/dist-packages (from pycaret) (4.66.4)\n",
            "Requirement already satisfied: jinja2>=3 in /usr/local/lib/python3.10/dist-packages (from pycaret) (3.1.4)\n",
            "Collecting joblib>=0.11 (from scikit-optimize)\n",
            "  Downloading joblib-1.3.2-py3-none-any.whl (302 kB)\n",
            "\u001b[2K     \u001b[90m━━━━━━━━━━━━━━━━━━━━━━━━━━━━━━━━━━━━━━━━\u001b[0m \u001b[32m302.2/302.2 kB\u001b[0m \u001b[31m35.1 MB/s\u001b[0m eta \u001b[36m0:00:00\u001b[0m\n",
            "\u001b[?25hCollecting scikit-learn>=1.0.0 (from scikit-optimize)\n",
            "  Downloading scikit_learn-1.5.0-cp310-cp310-manylinux_2_17_x86_64.manylinux2014_x86_64.whl (13.3 MB)\n",
            "\u001b[2K     \u001b[90m━━━━━━━━━━━━━━━━━━━━━━━━━━━━━━━━━━━━━━━━\u001b[0m \u001b[32m13.3/13.3 MB\u001b[0m \u001b[31m64.6 MB/s\u001b[0m eta \u001b[36m0:00:00\u001b[0m\n",
            "\u001b[?25hCollecting pyod>=1.1.3 (from pycaret)\n",
            "  Downloading pyod-1.1.3.tar.gz (160 kB)\n",
            "\u001b[2K     \u001b[90m━━━━━━━━━━━━━━━━━━━━━━━━━━━━━━━━━━━━━━━━\u001b[0m \u001b[32m160.5/160.5 kB\u001b[0m \u001b[31m22.0 MB/s\u001b[0m eta \u001b[36m0:00:00\u001b[0m\n",
            "\u001b[?25h  Preparing metadata (setup.py) ... \u001b[?25l\u001b[?25hdone\n",
            "Collecting imbalanced-learn>=0.12.0 (from pycaret)\n",
            "  Downloading imbalanced_learn-0.12.2-py3-none-any.whl (257 kB)\n",
            "\u001b[2K     \u001b[90m━━━━━━━━━━━━━━━━━━━━━━━━━━━━━━━━━━━━━━━━\u001b[0m \u001b[32m258.0/258.0 kB\u001b[0m \u001b[31m25.4 MB/s\u001b[0m eta \u001b[36m0:00:00\u001b[0m\n",
            "\u001b[?25hRequirement already satisfied: numba>=0.55.0 in /usr/local/lib/python3.10/dist-packages (from pycaret) (0.58.1)\n",
            "Requirement already satisfied: requests>=2.27.1 in /usr/local/lib/python3.10/dist-packages (from pycaret) (2.31.0)\n",
            "Requirement already satisfied: psutil>=5.9.0 in /usr/local/lib/python3.10/dist-packages (from pycaret) (5.9.5)\n",
            "Requirement already satisfied: markupsafe>=2.0.1 in /usr/local/lib/python3.10/dist-packages (from pycaret) (2.1.5)\n",
            "Requirement already satisfied: importlib-metadata>=4.12.0 in /usr/local/lib/python3.10/dist-packages (from pycaret) (7.1.0)\n",
            "Requirement already satisfied: nbformat>=4.2.0 in /usr/local/lib/python3.10/dist-packages (from pycaret) (5.10.4)\n",
            "Requirement already satisfied: cloudpickle in /usr/local/lib/python3.10/dist-packages (from pycaret) (2.2.1)\n",
            "Collecting deprecation>=2.1.0 (from pycaret)\n",
            "  Downloading deprecation-2.1.0-py2.py3-none-any.whl (11 kB)\n",
            "Collecting xxhash (from pycaret)\n",
            "  Downloading xxhash-3.4.1-cp310-cp310-manylinux_2_17_x86_64.manylinux2014_x86_64.whl (194 kB)\n",
            "\u001b[2K     \u001b[90m━━━━━━━━━━━━━━━━━━━━━━━━━━━━━━━━━━━━━━━━\u001b[0m \u001b[32m194.1/194.1 kB\u001b[0m \u001b[31m20.7 MB/s\u001b[0m eta \u001b[36m0:00:00\u001b[0m\n",
            "\u001b[?25hCollecting scikit-plot>=0.3.7 (from pycaret)\n",
            "  Downloading scikit_plot-0.3.7-py3-none-any.whl (33 kB)\n",
            "Requirement already satisfied: yellowbrick>=1.4 in /usr/local/lib/python3.10/dist-packages (from pycaret) (1.5)\n",
            "Requirement already satisfied: plotly>=5.14.0 in /usr/local/lib/python3.10/dist-packages (from pycaret) (5.15.0)\n",
            "Collecting kaleido>=0.2.1 (from pycaret)\n",
            "  Downloading kaleido-0.2.1-py2.py3-none-manylinux1_x86_64.whl (79.9 MB)\n",
            "\u001b[2K     \u001b[90m━━━━━━━━━━━━━━━━━━━━━━━━━━━━━━━━━━━━━━━━\u001b[0m \u001b[32m79.9/79.9 MB\u001b[0m \u001b[31m8.0 MB/s\u001b[0m eta \u001b[36m0:00:00\u001b[0m\n",
            "\u001b[?25hCollecting schemdraw==0.15 (from pycaret)\n",
            "  Downloading schemdraw-0.15-py3-none-any.whl (106 kB)\n",
            "\u001b[2K     \u001b[90m━━━━━━━━━━━━━━━━━━━━━━━━━━━━━━━━━━━━━━━━\u001b[0m \u001b[32m106.8/106.8 kB\u001b[0m \u001b[31m11.8 MB/s\u001b[0m eta \u001b[36m0:00:00\u001b[0m\n",
            "\u001b[?25hCollecting plotly-resampler>=0.8.3.1 (from pycaret)\n",
            "  Downloading plotly_resampler-0.10.0-py3-none-any.whl (80 kB)\n",
            "\u001b[2K     \u001b[90m━━━━━━━━━━━━━━━━━━━━━━━━━━━━━━━━━━━━━━━━\u001b[0m \u001b[32m80.7/80.7 kB\u001b[0m \u001b[31m10.1 MB/s\u001b[0m eta \u001b[36m0:00:00\u001b[0m\n",
            "\u001b[?25hRequirement already satisfied: statsmodels>=0.12.1 in /usr/local/lib/python3.10/dist-packages (from pycaret) (0.14.2)\n",
            "Collecting sktime==0.26.0 (from pycaret)\n",
            "  Downloading sktime-0.26.0-py3-none-any.whl (21.8 MB)\n",
            "\u001b[2K     \u001b[90m━━━━━━━━━━━━━━━━━━━━━━━━━━━━━━━━━━━━━━━━\u001b[0m \u001b[32m21.8/21.8 MB\u001b[0m \u001b[31m61.8 MB/s\u001b[0m eta \u001b[36m0:00:00\u001b[0m\n",
            "\u001b[?25hCollecting tbats>=1.1.3 (from pycaret)\n",
            "  Downloading tbats-1.1.3-py3-none-any.whl (44 kB)\n",
            "\u001b[2K     \u001b[90m━━━━━━━━━━━━━━━━━━━━━━━━━━━━━━━━━━━━━━━━\u001b[0m \u001b[32m44.0/44.0 kB\u001b[0m \u001b[31m6.0 MB/s\u001b[0m eta \u001b[36m0:00:00\u001b[0m\n",
            "\u001b[?25hCollecting pmdarima>=2.0.4 (from pycaret)\n",
            "  Downloading pmdarima-2.0.4-cp310-cp310-manylinux_2_17_x86_64.manylinux2014_x86_64.manylinux_2_28_x86_64.whl (2.1 MB)\n",
            "\u001b[2K     \u001b[90m━━━━━━━━━━━━━━━━━━━━━━━━━━━━━━━━━━━━━━━━\u001b[0m \u001b[32m2.1/2.1 MB\u001b[0m \u001b[31m78.1 MB/s\u001b[0m eta \u001b[36m0:00:00\u001b[0m\n",
            "\u001b[?25hCollecting wurlitzer (from pycaret)\n",
            "  Downloading wurlitzer-3.1.0-py3-none-any.whl (8.4 kB)\n",
            "Collecting scikit-base<0.8.0 (from sktime==0.26.0->pycaret)\n",
            "  Downloading scikit_base-0.7.8-py3-none-any.whl (130 kB)\n",
            "\u001b[2K     \u001b[90m━━━━━━━━━━━━━━━━━━━━━━━━━━━━━━━━━━━━━━━━\u001b[0m \u001b[32m130.1/130.1 kB\u001b[0m \u001b[31m18.5 MB/s\u001b[0m eta \u001b[36m0:00:00\u001b[0m\n",
            "\u001b[?25hCollecting scikit-learn>=1.0.0 (from scikit-optimize)\n",
            "  Downloading scikit_learn-1.4.2-cp310-cp310-manylinux_2_17_x86_64.manylinux2014_x86_64.whl (12.1 MB)\n",
            "\u001b[2K     \u001b[90m━━━━━━━━━━━━━━━━━━━━━━━━━━━━━━━━━━━━━━━━\u001b[0m \u001b[32m12.1/12.1 MB\u001b[0m \u001b[31m86.1 MB/s\u001b[0m eta \u001b[36m0:00:00\u001b[0m\n",
            "\u001b[?25hRequirement already satisfied: graphviz in /usr/local/lib/python3.10/dist-packages (from catboost>=0.24.4->mljar-supervised) (0.20.3)\n",
            "Requirement already satisfied: six in /usr/local/lib/python3.10/dist-packages (from catboost>=0.24.4->mljar-supervised) (1.16.0)\n",
            "Requirement already satisfied: patsy>=0.5.1 in /usr/local/lib/python3.10/dist-packages (from category_encoders>=2.2.2->mljar-supervised) (0.5.6)\n",
            "Requirement already satisfied: colour in /usr/local/lib/python3.10/dist-packages (from dtreeviz>=2.2.2->mljar-supervised) (0.1.5)\n",
            "Requirement already satisfied: pytest in /usr/local/lib/python3.10/dist-packages (from dtreeviz>=2.2.2->mljar-supervised) (7.4.4)\n",
            "Requirement already satisfied: threadpoolctl>=2.0.0 in /usr/local/lib/python3.10/dist-packages (from imbalanced-learn>=0.12.0->pycaret) (3.5.0)\n",
            "Requirement already satisfied: zipp>=0.5 in /usr/local/lib/python3.10/dist-packages (from importlib-metadata>=4.12.0->pycaret) (3.18.2)\n",
            "Requirement already satisfied: setuptools>=18.5 in /usr/local/lib/python3.10/dist-packages (from ipython->mljar-supervised) (67.7.2)\n",
            "Collecting jedi>=0.16 (from ipython->mljar-supervised)\n",
            "  Downloading jedi-0.19.1-py2.py3-none-any.whl (1.6 MB)\n",
            "\u001b[2K     \u001b[90m━━━━━━━━━━━━━━━━━━━━━━━━━━━━━━━━━━━━━━━━\u001b[0m \u001b[32m1.6/1.6 MB\u001b[0m \u001b[31m73.9 MB/s\u001b[0m eta \u001b[36m0:00:00\u001b[0m\n",
            "\u001b[?25hRequirement already satisfied: decorator in /usr/local/lib/python3.10/dist-packages (from ipython->mljar-supervised) (4.4.2)\n",
            "Requirement already satisfied: pickleshare in /usr/local/lib/python3.10/dist-packages (from ipython->mljar-supervised) (0.7.5)\n",
            "Requirement already satisfied: traitlets>=4.2 in /usr/local/lib/python3.10/dist-packages (from ipython->mljar-supervised) (5.7.1)\n",
            "Requirement already satisfied: prompt-toolkit!=3.0.0,!=3.0.1,<3.1.0,>=2.0.0 in /usr/local/lib/python3.10/dist-packages (from ipython->mljar-supervised) (3.0.43)\n",
            "Requirement already satisfied: pygments in /usr/local/lib/python3.10/dist-packages (from ipython->mljar-supervised) (2.16.1)\n",
            "Requirement already satisfied: backcall in /usr/local/lib/python3.10/dist-packages (from ipython->mljar-supervised) (0.2.0)\n",
            "Requirement already satisfied: matplotlib-inline in /usr/local/lib/python3.10/dist-packages (from ipython->mljar-supervised) (0.1.7)\n",
            "Requirement already satisfied: pexpect>4.3 in /usr/local/lib/python3.10/dist-packages (from ipython->mljar-supervised) (4.9.0)\n",
            "Requirement already satisfied: ipykernel>=4.5.1 in /usr/local/lib/python3.10/dist-packages (from ipywidgets>=7.6.5->pycaret) (5.5.6)\n",
            "Requirement already satisfied: ipython-genutils~=0.2.0 in /usr/local/lib/python3.10/dist-packages (from ipywidgets>=7.6.5->pycaret) (0.2.0)\n",
            "Requirement already satisfied: widgetsnbextension~=3.6.0 in /usr/local/lib/python3.10/dist-packages (from ipywidgets>=7.6.5->pycaret) (3.6.6)\n",
            "Requirement already satisfied: jupyterlab-widgets>=1.0.0 in /usr/local/lib/python3.10/dist-packages (from ipywidgets>=7.6.5->pycaret) (3.0.10)\n",
            "Requirement already satisfied: contourpy>=1.0.1 in /usr/local/lib/python3.10/dist-packages (from matplotlib>=3.2.2->mljar-supervised) (1.2.1)\n",
            "Requirement already satisfied: cycler>=0.10 in /usr/local/lib/python3.10/dist-packages (from matplotlib>=3.2.2->mljar-supervised) (0.12.1)\n",
            "Requirement already satisfied: fonttools>=4.22.0 in /usr/local/lib/python3.10/dist-packages (from matplotlib>=3.2.2->mljar-supervised) (4.51.0)\n",
            "Requirement already satisfied: kiwisolver>=1.0.1 in /usr/local/lib/python3.10/dist-packages (from matplotlib>=3.2.2->mljar-supervised) (1.4.5)\n",
            "Requirement already satisfied: pillow>=6.2.0 in /usr/local/lib/python3.10/dist-packages (from matplotlib>=3.2.2->mljar-supervised) (9.4.0)\n",
            "Requirement already satisfied: pyparsing>=2.3.1 in /usr/local/lib/python3.10/dist-packages (from matplotlib>=3.2.2->mljar-supervised) (3.1.2)\n",
            "Requirement already satisfied: python-dateutil>=2.7 in /usr/local/lib/python3.10/dist-packages (from matplotlib>=3.2.2->mljar-supervised) (2.8.2)\n",
            "Requirement already satisfied: fastjsonschema>=2.15 in /usr/local/lib/python3.10/dist-packages (from nbformat>=4.2.0->pycaret) (2.19.1)\n",
            "Requirement already satisfied: jsonschema>=2.6 in /usr/local/lib/python3.10/dist-packages (from nbformat>=4.2.0->pycaret) (4.19.2)\n",
            "Requirement already satisfied: jupyter-core!=5.0.*,>=4.12 in /usr/local/lib/python3.10/dist-packages (from nbformat>=4.2.0->pycaret) (5.7.2)\n",
            "Requirement already satisfied: llvmlite<0.42,>=0.41.0dev0 in /usr/local/lib/python3.10/dist-packages (from numba>=0.55.0->pycaret) (0.41.1)\n",
            "Collecting alembic>=1.5.0 (from optuna>=2.7.0->mljar-supervised)\n",
            "  Downloading alembic-1.13.1-py3-none-any.whl (233 kB)\n",
            "\u001b[2K     \u001b[90m━━━━━━━━━━━━━━━━━━━━━━━━━━━━━━━━━━━━━━━━\u001b[0m \u001b[32m233.4/233.4 kB\u001b[0m \u001b[31m27.9 MB/s\u001b[0m eta \u001b[36m0:00:00\u001b[0m\n",
            "\u001b[?25hCollecting colorlog (from optuna>=2.7.0->mljar-supervised)\n",
            "  Downloading colorlog-6.8.2-py3-none-any.whl (11 kB)\n",
            "Requirement already satisfied: sqlalchemy>=1.3.0 in /usr/local/lib/python3.10/dist-packages (from optuna>=2.7.0->mljar-supervised) (2.0.30)\n",
            "Requirement already satisfied: PyYAML in /usr/local/lib/python3.10/dist-packages (from optuna>=2.7.0->mljar-supervised) (6.0.1)\n",
            "Requirement already satisfied: pytz>=2020.1 in /usr/local/lib/python3.10/dist-packages (from pandas>=2.0.0->mljar-supervised) (2023.4)\n",
            "Requirement already satisfied: tzdata>=2022.1 in /usr/local/lib/python3.10/dist-packages (from pandas>=2.0.0->mljar-supervised) (2024.1)\n",
            "Requirement already satisfied: tenacity>=6.2.0 in /usr/local/lib/python3.10/dist-packages (from plotly>=5.14.0->pycaret) (8.3.0)\n",
            "Collecting dash>=2.9.0 (from plotly-resampler>=0.8.3.1->pycaret)\n",
            "  Downloading dash-2.17.0-py3-none-any.whl (7.5 MB)\n",
            "\u001b[2K     \u001b[90m━━━━━━━━━━━━━━━━━━━━━━━━━━━━━━━━━━━━━━━━\u001b[0m \u001b[32m7.5/7.5 MB\u001b[0m \u001b[31m67.9 MB/s\u001b[0m eta \u001b[36m0:00:00\u001b[0m\n",
            "\u001b[?25hCollecting orjson<4.0.0,>=3.8.0 (from plotly-resampler>=0.8.3.1->pycaret)\n",
            "  Downloading orjson-3.10.3-cp310-cp310-manylinux_2_17_x86_64.manylinux2014_x86_64.whl (142 kB)\n",
            "\u001b[2K     \u001b[90m━━━━━━━━━━━━━━━━━━━━━━━━━━━━━━━━━━━━━━━━\u001b[0m \u001b[32m142.5/142.5 kB\u001b[0m \u001b[31m17.2 MB/s\u001b[0m eta \u001b[36m0:00:00\u001b[0m\n",
            "\u001b[?25hCollecting tsdownsample>=0.1.3 (from plotly-resampler>=0.8.3.1->pycaret)\n",
            "  Downloading tsdownsample-0.1.3-cp310-cp310-manylinux_2_17_x86_64.manylinux2014_x86_64.whl (2.1 MB)\n",
            "\u001b[2K     \u001b[90m━━━━━━━━━━━━━━━━━━━━━━━━━━━━━━━━━━━━━━━━\u001b[0m \u001b[32m2.1/2.1 MB\u001b[0m \u001b[31m63.8 MB/s\u001b[0m eta \u001b[36m0:00:00\u001b[0m\n",
            "\u001b[?25hRequirement already satisfied: Cython!=0.29.18,!=0.29.31,>=0.29 in /usr/local/lib/python3.10/dist-packages (from pmdarima>=2.0.4->pycaret) (3.0.10)\n",
            "Requirement already satisfied: urllib3 in /usr/local/lib/python3.10/dist-packages (from pmdarima>=2.0.4->pycaret) (2.0.7)\n",
            "Requirement already satisfied: charset-normalizer<4,>=2 in /usr/local/lib/python3.10/dist-packages (from requests>=2.27.1->pycaret) (3.3.2)\n",
            "Requirement already satisfied: idna<4,>=2.5 in /usr/local/lib/python3.10/dist-packages (from requests>=2.27.1->pycaret) (3.7)\n",
            "Requirement already satisfied: certifi>=2017.4.17 in /usr/local/lib/python3.10/dist-packages (from requests>=2.27.1->pycaret) (2024.2.2)\n",
            "Collecting slicer==0.0.8 (from shap>=0.42.1->mljar-supervised)\n",
            "  Downloading slicer-0.0.8-py3-none-any.whl (15 kB)\n",
            "Collecting Mako (from alembic>=1.5.0->optuna>=2.7.0->mljar-supervised)\n",
            "  Downloading Mako-1.3.5-py3-none-any.whl (78 kB)\n",
            "\u001b[2K     \u001b[90m━━━━━━━━━━━━━━━━━━━━━━━━━━━━━━━━━━━━━━━━\u001b[0m \u001b[32m78.6/78.6 kB\u001b[0m \u001b[31m10.7 MB/s\u001b[0m eta \u001b[36m0:00:00\u001b[0m\n",
            "\u001b[?25hRequirement already satisfied: Flask<3.1,>=1.0.4 in /usr/local/lib/python3.10/dist-packages (from dash>=2.9.0->plotly-resampler>=0.8.3.1->pycaret) (2.2.5)\n",
            "Requirement already satisfied: Werkzeug<3.1 in /usr/local/lib/python3.10/dist-packages (from dash>=2.9.0->plotly-resampler>=0.8.3.1->pycaret) (3.0.3)\n",
            "Collecting dash-html-components==2.0.0 (from dash>=2.9.0->plotly-resampler>=0.8.3.1->pycaret)\n",
            "  Downloading dash_html_components-2.0.0-py3-none-any.whl (4.1 kB)\n",
            "Collecting dash-core-components==2.0.0 (from dash>=2.9.0->plotly-resampler>=0.8.3.1->pycaret)\n",
            "  Downloading dash_core_components-2.0.0-py3-none-any.whl (3.8 kB)\n",
            "Collecting dash-table==5.0.0 (from dash>=2.9.0->plotly-resampler>=0.8.3.1->pycaret)\n",
            "  Downloading dash_table-5.0.0-py3-none-any.whl (3.9 kB)\n",
            "Collecting retrying (from dash>=2.9.0->plotly-resampler>=0.8.3.1->pycaret)\n",
            "  Downloading retrying-1.3.4-py3-none-any.whl (11 kB)\n",
            "Requirement already satisfied: nest-asyncio in /usr/local/lib/python3.10/dist-packages (from dash>=2.9.0->plotly-resampler>=0.8.3.1->pycaret) (1.6.0)\n",
            "Requirement already satisfied: jupyter-client in /usr/local/lib/python3.10/dist-packages (from ipykernel>=4.5.1->ipywidgets>=7.6.5->pycaret) (6.1.12)\n",
            "Requirement already satisfied: tornado>=4.2 in /usr/local/lib/python3.10/dist-packages (from ipykernel>=4.5.1->ipywidgets>=7.6.5->pycaret) (6.3.3)\n",
            "Requirement already satisfied: parso<0.9.0,>=0.8.3 in /usr/local/lib/python3.10/dist-packages (from jedi>=0.16->ipython->mljar-supervised) (0.8.4)\n",
            "Requirement already satisfied: attrs>=22.2.0 in /usr/local/lib/python3.10/dist-packages (from jsonschema>=2.6->nbformat>=4.2.0->pycaret) (23.2.0)\n",
            "Requirement already satisfied: jsonschema-specifications>=2023.03.6 in /usr/local/lib/python3.10/dist-packages (from jsonschema>=2.6->nbformat>=4.2.0->pycaret) (2023.12.1)\n",
            "Requirement already satisfied: referencing>=0.28.4 in /usr/local/lib/python3.10/dist-packages (from jsonschema>=2.6->nbformat>=4.2.0->pycaret) (0.35.1)\n",
            "Requirement already satisfied: rpds-py>=0.7.1 in /usr/local/lib/python3.10/dist-packages (from jsonschema>=2.6->nbformat>=4.2.0->pycaret) (0.18.1)\n",
            "Requirement already satisfied: platformdirs>=2.5 in /usr/local/lib/python3.10/dist-packages (from jupyter-core!=5.0.*,>=4.12->nbformat>=4.2.0->pycaret) (4.2.2)\n",
            "Requirement already satisfied: ptyprocess>=0.5 in /usr/local/lib/python3.10/dist-packages (from pexpect>4.3->ipython->mljar-supervised) (0.7.0)\n",
            "Requirement already satisfied: wcwidth in /usr/local/lib/python3.10/dist-packages (from prompt-toolkit!=3.0.0,!=3.0.1,<3.1.0,>=2.0.0->ipython->mljar-supervised) (0.2.13)\n",
            "Requirement already satisfied: greenlet!=0.4.17 in /usr/local/lib/python3.10/dist-packages (from sqlalchemy>=1.3.0->optuna>=2.7.0->mljar-supervised) (3.0.3)\n",
            "Requirement already satisfied: notebook>=4.4.1 in /usr/local/lib/python3.10/dist-packages (from widgetsnbextension~=3.6.0->ipywidgets>=7.6.5->pycaret) (6.5.5)\n",
            "Requirement already satisfied: iniconfig in /usr/local/lib/python3.10/dist-packages (from pytest->dtreeviz>=2.2.2->mljar-supervised) (2.0.0)\n",
            "Requirement already satisfied: pluggy<2.0,>=0.12 in /usr/local/lib/python3.10/dist-packages (from pytest->dtreeviz>=2.2.2->mljar-supervised) (1.5.0)\n",
            "Requirement already satisfied: exceptiongroup>=1.0.0rc8 in /usr/local/lib/python3.10/dist-packages (from pytest->dtreeviz>=2.2.2->mljar-supervised) (1.2.1)\n",
            "Requirement already satisfied: tomli>=1.0.0 in /usr/local/lib/python3.10/dist-packages (from pytest->dtreeviz>=2.2.2->mljar-supervised) (2.0.1)\n",
            "Requirement already satisfied: itsdangerous>=2.0 in /usr/local/lib/python3.10/dist-packages (from Flask<3.1,>=1.0.4->dash>=2.9.0->plotly-resampler>=0.8.3.1->pycaret) (2.2.0)\n",
            "Requirement already satisfied: click>=8.0 in /usr/local/lib/python3.10/dist-packages (from Flask<3.1,>=1.0.4->dash>=2.9.0->plotly-resampler>=0.8.3.1->pycaret) (8.1.7)\n",
            "Requirement already satisfied: pyzmq<25,>=17 in /usr/local/lib/python3.10/dist-packages (from notebook>=4.4.1->widgetsnbextension~=3.6.0->ipywidgets>=7.6.5->pycaret) (24.0.1)\n",
            "Requirement already satisfied: argon2-cffi in /usr/local/lib/python3.10/dist-packages (from notebook>=4.4.1->widgetsnbextension~=3.6.0->ipywidgets>=7.6.5->pycaret) (23.1.0)\n",
            "Requirement already satisfied: nbconvert>=5 in /usr/local/lib/python3.10/dist-packages (from notebook>=4.4.1->widgetsnbextension~=3.6.0->ipywidgets>=7.6.5->pycaret) (6.5.4)\n",
            "Requirement already satisfied: Send2Trash>=1.8.0 in /usr/local/lib/python3.10/dist-packages (from notebook>=4.4.1->widgetsnbextension~=3.6.0->ipywidgets>=7.6.5->pycaret) (1.8.3)\n",
            "Requirement already satisfied: terminado>=0.8.3 in /usr/local/lib/python3.10/dist-packages (from notebook>=4.4.1->widgetsnbextension~=3.6.0->ipywidgets>=7.6.5->pycaret) (0.18.1)\n",
            "Requirement already satisfied: prometheus-client in /usr/local/lib/python3.10/dist-packages (from notebook>=4.4.1->widgetsnbextension~=3.6.0->ipywidgets>=7.6.5->pycaret) (0.20.0)\n",
            "Requirement already satisfied: nbclassic>=0.4.7 in /usr/local/lib/python3.10/dist-packages (from notebook>=4.4.1->widgetsnbextension~=3.6.0->ipywidgets>=7.6.5->pycaret) (1.0.0)\n",
            "Requirement already satisfied: jupyter-server>=1.8 in /usr/local/lib/python3.10/dist-packages (from nbclassic>=0.4.7->notebook>=4.4.1->widgetsnbextension~=3.6.0->ipywidgets>=7.6.5->pycaret) (1.24.0)\n",
            "Requirement already satisfied: notebook-shim>=0.2.3 in /usr/local/lib/python3.10/dist-packages (from nbclassic>=0.4.7->notebook>=4.4.1->widgetsnbextension~=3.6.0->ipywidgets>=7.6.5->pycaret) (0.2.4)\n",
            "Requirement already satisfied: lxml in /usr/local/lib/python3.10/dist-packages (from nbconvert>=5->notebook>=4.4.1->widgetsnbextension~=3.6.0->ipywidgets>=7.6.5->pycaret) (4.9.4)\n",
            "Requirement already satisfied: beautifulsoup4 in /usr/local/lib/python3.10/dist-packages (from nbconvert>=5->notebook>=4.4.1->widgetsnbextension~=3.6.0->ipywidgets>=7.6.5->pycaret) (4.12.3)\n",
            "Requirement already satisfied: bleach in /usr/local/lib/python3.10/dist-packages (from nbconvert>=5->notebook>=4.4.1->widgetsnbextension~=3.6.0->ipywidgets>=7.6.5->pycaret) (6.1.0)\n",
            "Requirement already satisfied: defusedxml in /usr/local/lib/python3.10/dist-packages (from nbconvert>=5->notebook>=4.4.1->widgetsnbextension~=3.6.0->ipywidgets>=7.6.5->pycaret) (0.7.1)\n",
            "Requirement already satisfied: entrypoints>=0.2.2 in /usr/local/lib/python3.10/dist-packages (from nbconvert>=5->notebook>=4.4.1->widgetsnbextension~=3.6.0->ipywidgets>=7.6.5->pycaret) (0.4)\n",
            "Requirement already satisfied: jupyterlab-pygments in /usr/local/lib/python3.10/dist-packages (from nbconvert>=5->notebook>=4.4.1->widgetsnbextension~=3.6.0->ipywidgets>=7.6.5->pycaret) (0.3.0)\n",
            "Requirement already satisfied: mistune<2,>=0.8.1 in /usr/local/lib/python3.10/dist-packages (from nbconvert>=5->notebook>=4.4.1->widgetsnbextension~=3.6.0->ipywidgets>=7.6.5->pycaret) (0.8.4)\n",
            "Requirement already satisfied: nbclient>=0.5.0 in /usr/local/lib/python3.10/dist-packages (from nbconvert>=5->notebook>=4.4.1->widgetsnbextension~=3.6.0->ipywidgets>=7.6.5->pycaret) (0.10.0)\n",
            "Requirement already satisfied: pandocfilters>=1.4.1 in /usr/local/lib/python3.10/dist-packages (from nbconvert>=5->notebook>=4.4.1->widgetsnbextension~=3.6.0->ipywidgets>=7.6.5->pycaret) (1.5.1)\n",
            "Requirement already satisfied: tinycss2 in /usr/local/lib/python3.10/dist-packages (from nbconvert>=5->notebook>=4.4.1->widgetsnbextension~=3.6.0->ipywidgets>=7.6.5->pycaret) (1.3.0)\n",
            "Requirement already satisfied: argon2-cffi-bindings in /usr/local/lib/python3.10/dist-packages (from argon2-cffi->notebook>=4.4.1->widgetsnbextension~=3.6.0->ipywidgets>=7.6.5->pycaret) (21.2.0)\n",
            "Requirement already satisfied: anyio<4,>=3.1.0 in /usr/local/lib/python3.10/dist-packages (from jupyter-server>=1.8->nbclassic>=0.4.7->notebook>=4.4.1->widgetsnbextension~=3.6.0->ipywidgets>=7.6.5->pycaret) (3.7.1)\n",
            "Requirement already satisfied: websocket-client in /usr/local/lib/python3.10/dist-packages (from jupyter-server>=1.8->nbclassic>=0.4.7->notebook>=4.4.1->widgetsnbextension~=3.6.0->ipywidgets>=7.6.5->pycaret) (1.8.0)\n",
            "Requirement already satisfied: cffi>=1.0.1 in /usr/local/lib/python3.10/dist-packages (from argon2-cffi-bindings->argon2-cffi->notebook>=4.4.1->widgetsnbextension~=3.6.0->ipywidgets>=7.6.5->pycaret) (1.16.0)\n",
            "Requirement already satisfied: soupsieve>1.2 in /usr/local/lib/python3.10/dist-packages (from beautifulsoup4->nbconvert>=5->notebook>=4.4.1->widgetsnbextension~=3.6.0->ipywidgets>=7.6.5->pycaret) (2.5)\n",
            "Requirement already satisfied: webencodings in /usr/local/lib/python3.10/dist-packages (from bleach->nbconvert>=5->notebook>=4.4.1->widgetsnbextension~=3.6.0->ipywidgets>=7.6.5->pycaret) (0.5.1)\n",
            "Requirement already satisfied: sniffio>=1.1 in /usr/local/lib/python3.10/dist-packages (from anyio<4,>=3.1.0->jupyter-server>=1.8->nbclassic>=0.4.7->notebook>=4.4.1->widgetsnbextension~=3.6.0->ipywidgets>=7.6.5->pycaret) (1.3.1)\n",
            "Requirement already satisfied: pycparser in /usr/local/lib/python3.10/dist-packages (from cffi>=1.0.1->argon2-cffi-bindings->argon2-cffi->notebook>=4.4.1->widgetsnbextension~=3.6.0->ipywidgets>=7.6.5->pycaret) (2.22)\n",
            "Building wheels for collected packages: mljar-supervised, mljar-scikit-plot, pyod\n",
            "  Building wheel for mljar-supervised (setup.py) ... \u001b[?25l\u001b[?25hdone\n",
            "  Created wheel for mljar-supervised: filename=mljar_supervised-1.1.8-py3-none-any.whl size=163976 sha256=692d70286dfc17d6265e2c2466a1e4e4c1a91fad47275c86971044aa13557ac0\n",
            "  Stored in directory: /root/.cache/pip/wheels/d6/3a/f5/e74ce2bf2a6598e1253fcdc14a0b222669158ad7244fecf06a\n",
            "  Building wheel for mljar-scikit-plot (setup.py) ... \u001b[?25l\u001b[?25hdone\n",
            "  Created wheel for mljar-scikit-plot: filename=mljar_scikit_plot-0.3.10-py3-none-any.whl size=32071 sha256=2d59d89b5700c8b7503ea0e669fa4024f2badd3c7309df22660023cb99e80b5e\n",
            "  Stored in directory: /root/.cache/pip/wheels/63/20/aa/52ac25c16b775867b08127998057fec4a1e5d43cc22b58d76b\n",
            "  Building wheel for pyod (setup.py) ... \u001b[?25l\u001b[?25hdone\n",
            "  Created wheel for pyod: filename=pyod-1.1.3-py3-none-any.whl size=190250 sha256=cf4fed4c8e46b478640cf942b72be0ae22de0c6c655c00336e91a1f5e5f4597e\n",
            "  Stored in directory: /root/.cache/pip/wheels/05/f8/db/124d43bec122d6ec0ab3713fadfe25ebed8af52ec561682b4e\n",
            "Successfully built mljar-supervised mljar-scikit-plot pyod\n",
            "Installing collected packages: kaleido, dash-table, dash-html-components, dash-core-components, xxhash, wurlitzer, tsdownsample, slicer, scikit-base, schemdraw, retrying, pyaml, orjson, Mako, joblib, jedi, deprecation, colorlog, scikit-learn, alembic, sktime, shap, scikit-plot, scikit-optimize, pyod, optuna, mljar-scikit-plot, imbalanced-learn, dtreeviz, dash, catboost, pmdarima, plotly-resampler, category_encoders, tbats, mljar-supervised, pycaret\n",
            "  Attempting uninstall: joblib\n",
            "    Found existing installation: joblib 1.4.2\n",
            "    Uninstalling joblib-1.4.2:\n",
            "      Successfully uninstalled joblib-1.4.2\n",
            "  Attempting uninstall: scikit-learn\n",
            "    Found existing installation: scikit-learn 1.2.2\n",
            "    Uninstalling scikit-learn-1.2.2:\n",
            "      Successfully uninstalled scikit-learn-1.2.2\n",
            "  Attempting uninstall: imbalanced-learn\n",
            "    Found existing installation: imbalanced-learn 0.10.1\n",
            "    Uninstalling imbalanced-learn-0.10.1:\n",
            "      Successfully uninstalled imbalanced-learn-0.10.1\n",
            "Successfully installed Mako-1.3.5 alembic-1.13.1 catboost-1.2.5 category_encoders-2.6.3 colorlog-6.8.2 dash-2.17.0 dash-core-components-2.0.0 dash-html-components-2.0.0 dash-table-5.0.0 deprecation-2.1.0 dtreeviz-2.2.2 imbalanced-learn-0.12.2 jedi-0.19.1 joblib-1.3.2 kaleido-0.2.1 mljar-scikit-plot-0.3.10 mljar-supervised-1.1.8 optuna-3.6.1 orjson-3.10.3 plotly-resampler-0.10.0 pmdarima-2.0.4 pyaml-24.4.0 pycaret-3.3.2 pyod-1.1.3 retrying-1.3.4 schemdraw-0.15 scikit-base-0.7.8 scikit-learn-1.4.2 scikit-optimize-0.10.1 scikit-plot-0.3.7 shap-0.45.1 sktime-0.26.0 slicer-0.0.8 tbats-1.1.3 tsdownsample-0.1.3 wurlitzer-3.1.0 xxhash-3.4.1\n"
          ]
        },
        {
          "output_type": "display_data",
          "data": {
            "application/vnd.colab-display-data+json": {
              "pip_warning": {
                "packages": [
                  "joblib",
                  "sklearn"
                ]
              },
              "id": "ea8ba2983eb847a487aa850d206eab02"
            }
          },
          "metadata": {}
        }
      ],
      "source": [
        "!pip install scikit-optimize mljar-supervised pycaret\n",
        "#!pip uninstall pandas numpy -y\n",
        "#!pip install --trusted-host pypi.python.org --trusted-host files.pythonhosted.org --trusted-host pypi.org -U pycaret scikit-optimize mljar-supervised"
      ]
    },
    {
      "cell_type": "markdown",
      "metadata": {
        "id": "A01BdHgmhY4h"
      },
      "source": [
        "__사내 PC 실습 안내__\n",
        "- 본 실습은 외부 데이터를 로드하는 내용이 포함되어 있습니다.\n",
        "- 사내 PC에서 외부 데이터 로드 시, SSL 인증 오류가 발생할 수 있습니다.\n",
        "- 아래 코드를 추가하여, SSL 인증을 생략합니다.\n",
        "- 따라서, 내용은 영상 강의와 다를 수 있습니다.\n",
        "\n",
        "```cmd\n",
        "import ssl\n",
        "ssl._create_default_https_context = ssl._create_unverified_context\n",
        "```"
      ]
    },
    {
      "cell_type": "code",
      "execution_count": null,
      "metadata": {
        "id": "bHbPFkWHaXJk"
      },
      "outputs": [],
      "source": [
        "import numpy as np\n",
        "import pandas as pd\n",
        "import seaborn as sns\n",
        "import matplotlib.pyplot as plt\n",
        "from sklearn.model_selection import train_test_split,cross_val_score\n",
        "from sklearn.ensemble import RandomForestClassifier,RandomForestRegressor\n",
        "from sklearn.metrics import classification_report,confusion_matrix,accuracy_score\n",
        "from sklearn.neighbors import KNeighborsClassifier,KNeighborsRegressor\n",
        "from sklearn.svm import SVC,SVR\n",
        "from sklearn.preprocessing import OneHotEncoder\n",
        "from sklearn import datasets\n",
        "import scipy.stats as stats\n",
        "\n",
        "#import ssl\n",
        "#ssl._create_default_https_context = ssl._create_unverified_context"
      ]
    },
    {
      "cell_type": "markdown",
      "metadata": {
        "id": "3woX33b9aXJm"
      },
      "source": [
        "## California Housing dataset 불러오기\n",
        "실습은 블록 단위로 기록되어있는 California Housing dataset을 활용하여 진행합니다.\n",
        "\n",
        "20640 개의 row와 10 개의 column이 있으며 데이터를 활용하여 집 값을 예측하는 것이 목표입니다.\n"
      ]
    },
    {
      "cell_type": "code",
      "execution_count": null,
      "metadata": {
        "colab": {
          "base_uri": "https://localhost:8080/"
        },
        "id": "Nx9E4bMkEziO",
        "outputId": "e962a412-2e7f-40e7-cc20-1b4a85a12600"
      },
      "outputs": [
        {
          "output_type": "stream",
          "name": "stdout",
          "text": [
            "<class 'pandas.core.frame.DataFrame'>\n",
            "RangeIndex: 1000 entries, 0 to 999\n",
            "Data columns (total 10 columns):\n",
            " #   Column              Non-Null Count  Dtype  \n",
            "---  ------              --------------  -----  \n",
            " 0   longitude           1000 non-null   float64\n",
            " 1   latitude            1000 non-null   float64\n",
            " 2   housing_median_age  1000 non-null   float64\n",
            " 3   total_rooms         1000 non-null   float64\n",
            " 4   total_bedrooms      793 non-null    float64\n",
            " 5   population          1000 non-null   float64\n",
            " 6   households          1000 non-null   float64\n",
            " 7   median_income       1000 non-null   float64\n",
            " 8   median_house_value  1000 non-null   float64\n",
            " 9   ocean_proximity     1000 non-null   object \n",
            "dtypes: float64(9), object(1)\n",
            "memory usage: 78.2+ KB\n"
          ]
        }
      ],
      "source": [
        "raw = pd.read_csv(\"https://raw.githubusercontent.com/JiByungKyu/dataset/main/california_housing/housing.csv\")\n",
        "raw= raw.sample(n=1000,ignore_index=True,random_state=42)\n",
        "raw.info()"
      ]
    },
    {
      "cell_type": "markdown",
      "metadata": {
        "id": "wynqK8TuH-pZ"
      },
      "source": [
        "### 데이터 전처리"
      ]
    },
    {
      "cell_type": "code",
      "execution_count": null,
      "metadata": {
        "id": "8uCt127-xlyN"
      },
      "outputs": [],
      "source": [
        "raw['median_house_value']/=1000   #1000 달러단위로 만\n",
        "enc = OneHotEncoder(handle_unknown='ignore',sparse_output=False)\n",
        "not_number_df = pd.DataFrame(enc.fit_transform(raw.select_dtypes(exclude='number')), columns=list(*enc.categories_))\n",
        "df = pd.concat([raw.select_dtypes(include='number'),not_number_df],axis=1,)"
      ]
    },
    {
      "cell_type": "code",
      "execution_count": null,
      "metadata": {
        "colab": {
          "base_uri": "https://localhost:8080/"
        },
        "id": "9gXqBviXoeOT",
        "outputId": "1a618962-4300-4c7c-e308-3cfee2e9b2eb"
      },
      "outputs": [
        {
          "output_type": "stream",
          "name": "stdout",
          "text": [
            "<class 'pandas.core.frame.DataFrame'>\n",
            "RangeIndex: 1000 entries, 0 to 999\n",
            "Data columns (total 13 columns):\n",
            " #   Column              Non-Null Count  Dtype  \n",
            "---  ------              --------------  -----  \n",
            " 0   longitude           1000 non-null   float64\n",
            " 1   latitude            1000 non-null   float64\n",
            " 2   housing_median_age  1000 non-null   float64\n",
            " 3   total_rooms         1000 non-null   float64\n",
            " 4   total_bedrooms      1000 non-null   float64\n",
            " 5   population          1000 non-null   float64\n",
            " 6   households          1000 non-null   float64\n",
            " 7   median_income       1000 non-null   float64\n",
            " 8   median_house_value  1000 non-null   float64\n",
            " 9   <1H OCEAN           1000 non-null   float64\n",
            " 10  INLAND              1000 non-null   float64\n",
            " 11  NEAR BAY            1000 non-null   float64\n",
            " 12  NEAR OCEAN          1000 non-null   float64\n",
            "dtypes: float64(13)\n",
            "memory usage: 101.7 KB\n"
          ]
        }
      ],
      "source": [
        "from sklearn.impute import KNNImputer\n",
        "imputer = KNNImputer(n_neighbors=10)\n",
        "df = pd.DataFrame(imputer.fit_transform(df),columns = df.columns)\n",
        "df.info()"
      ]
    },
    {
      "cell_type": "code",
      "execution_count": null,
      "metadata": {
        "id": "PZORa0i6E3L3"
      },
      "outputs": [],
      "source": [
        "X,y = df[list(set(df.columns) - set(['median_house_value']))], df['median_house_value']"
      ]
    },
    {
      "cell_type": "code",
      "source": [
        "y"
      ],
      "metadata": {
        "colab": {
          "base_uri": "https://localhost:8080/"
        },
        "id": "XHDt6IWWnYyN",
        "outputId": "b07de82e-d126-446f-b243-9268dd7a2850"
      },
      "execution_count": null,
      "outputs": [
        {
          "output_type": "execute_result",
          "data": {
            "text/plain": [
              "0       47.700\n",
              "1       45.800\n",
              "2      500.001\n",
              "3      218.600\n",
              "4      278.000\n",
              "        ...   \n",
              "995    190.300\n",
              "996    100.000\n",
              "997    139.600\n",
              "998    500.001\n",
              "999    154.500\n",
              "Name: median_house_value, Length: 1000, dtype: float64"
            ]
          },
          "metadata": {},
          "execution_count": 8
        }
      ]
    },
    {
      "cell_type": "markdown",
      "metadata": {
        "id": "8CAx426xaXJo"
      },
      "source": [
        "## Baseline Machine Learning Models: Regressors with Default Hyperparameters"
      ]
    },
    {
      "cell_type": "markdown",
      "metadata": {
        "id": "ieQm1WnoaXJp"
      },
      "source": [
        "### Manual Search Using 3-Fold Cross-Validation"
      ]
    },
    {
      "cell_type": "code",
      "execution_count": null,
      "metadata": {
        "colab": {
          "base_uri": "https://localhost:8080/"
        },
        "id": "vcOiQbnxaXJp",
        "outputId": "06f60e55-9898-4ed2-f584-356cf23406fa"
      },
      "outputs": [
        {
          "output_type": "stream",
          "name": "stdout",
          "text": [
            "MSE:4218.794747128812\n",
            "CPU times: user 15 s, sys: 109 ms, total: 15.1 s\n",
            "Wall time: 15.8 s\n"
          ]
        }
      ],
      "source": [
        "%%time\n",
        "#Random Forest\n",
        "n_estimators = 1000\n",
        "clf = RandomForestRegressor(n_estimators=n_estimators)\n",
        "scores = cross_val_score(clf, X, y, cv=3,scoring='neg_mean_squared_error') # 3-fold cross-validation\n",
        "print(\"MSE:\"+ str(-scores.mean()))"
      ]
    },
    {
      "cell_type": "code",
      "execution_count": null,
      "metadata": {
        "colab": {
          "base_uri": "https://localhost:8080/"
        },
        "id": "EA0y2AhRaXJq",
        "outputId": "1cc7bbf9-f843-4226-d4f0-259b827efa11"
      },
      "outputs": [
        {
          "output_type": "stream",
          "name": "stdout",
          "text": [
            "MSE:12779.112518668431\n",
            "CPU times: user 135 ms, sys: 0 ns, total: 135 ms\n",
            "Wall time: 135 ms\n"
          ]
        }
      ],
      "source": [
        "%%time\n",
        "#SVM\n",
        "C=5.0\n",
        "kernel='rbf'\n",
        "clf = SVR(C=C,kernel=kernel)\n",
        "scores = cross_val_score(clf, X, y, cv=3,scoring='neg_mean_squared_error')\n",
        "print(\"MSE:\"+ str(-scores.mean()))"
      ]
    },
    {
      "cell_type": "code",
      "execution_count": null,
      "metadata": {
        "colab": {
          "base_uri": "https://localhost:8080/"
        },
        "id": "WnMR-mNJaXJq",
        "outputId": "cba1caf7-aebf-4809-cd8a-e887f814ff8d"
      },
      "outputs": [
        {
          "output_type": "stream",
          "name": "stdout",
          "text": [
            "MSE:11152.31778682057\n",
            "CPU times: user 32.7 ms, sys: 0 ns, total: 32.7 ms\n",
            "Wall time: 38.2 ms\n"
          ]
        }
      ],
      "source": [
        "%%time\n",
        "#KNN\n",
        "n_neighbors=5\n",
        "clf = KNeighborsRegressor(n_neighbors=n_neighbors)\n",
        "scores = cross_val_score(clf, X, y, cv=3,scoring='neg_mean_squared_error')\n",
        "print(\"MSE:\"+ str(-scores.mean()))"
      ]
    },
    {
      "cell_type": "code",
      "source": [
        "!pip uninstall tensorflow\n",
        "!pip install tensorflow==2.12"
      ],
      "metadata": {
        "colab": {
          "base_uri": "https://localhost:8080/"
        },
        "id": "IkZEAlFmpWHK",
        "outputId": "82260a64-dee4-416e-9351-5cb24f084a39"
      },
      "execution_count": null,
      "outputs": [
        {
          "output_type": "stream",
          "name": "stdout",
          "text": [
            "Found existing installation: tensorflow 2.12.0\n",
            "Uninstalling tensorflow-2.12.0:\n",
            "  Would remove:\n",
            "    /usr/local/bin/estimator_ckpt_converter\n",
            "    /usr/local/bin/import_pb_to_tensorboard\n",
            "    /usr/local/bin/saved_model_cli\n",
            "    /usr/local/bin/tensorboard\n",
            "    /usr/local/bin/tf_upgrade_v2\n",
            "    /usr/local/bin/tflite_convert\n",
            "    /usr/local/bin/toco\n",
            "    /usr/local/bin/toco_from_protos\n",
            "    /usr/local/lib/python3.10/dist-packages/tensorflow-2.12.0.dist-info/*\n",
            "    /usr/local/lib/python3.10/dist-packages/tensorflow/*\n",
            "Proceed (Y/n)? y\n",
            "  Successfully uninstalled tensorflow-2.12.0\n",
            "Collecting tensorflow==2.12\n",
            "  Using cached tensorflow-2.12.0-cp310-cp310-manylinux_2_17_x86_64.manylinux2014_x86_64.whl (585.9 MB)\n",
            "Requirement already satisfied: absl-py>=1.0.0 in /usr/local/lib/python3.10/dist-packages (from tensorflow==2.12) (1.4.0)\n",
            "Requirement already satisfied: astunparse>=1.6.0 in /usr/local/lib/python3.10/dist-packages (from tensorflow==2.12) (1.6.3)\n",
            "Requirement already satisfied: flatbuffers>=2.0 in /usr/local/lib/python3.10/dist-packages (from tensorflow==2.12) (24.3.25)\n",
            "Requirement already satisfied: gast<=0.4.0,>=0.2.1 in /usr/local/lib/python3.10/dist-packages (from tensorflow==2.12) (0.4.0)\n",
            "Requirement already satisfied: google-pasta>=0.1.1 in /usr/local/lib/python3.10/dist-packages (from tensorflow==2.12) (0.2.0)\n",
            "Requirement already satisfied: grpcio<2.0,>=1.24.3 in /usr/local/lib/python3.10/dist-packages (from tensorflow==2.12) (1.64.0)\n",
            "Requirement already satisfied: h5py>=2.9.0 in /usr/local/lib/python3.10/dist-packages (from tensorflow==2.12) (3.9.0)\n",
            "Requirement already satisfied: jax>=0.3.15 in /usr/local/lib/python3.10/dist-packages (from tensorflow==2.12) (0.4.26)\n",
            "Requirement already satisfied: keras<2.13,>=2.12.0 in /usr/local/lib/python3.10/dist-packages (from tensorflow==2.12) (2.12.0)\n",
            "Requirement already satisfied: libclang>=13.0.0 in /usr/local/lib/python3.10/dist-packages (from tensorflow==2.12) (18.1.1)\n",
            "Requirement already satisfied: numpy<1.24,>=1.22 in /usr/local/lib/python3.10/dist-packages (from tensorflow==2.12) (1.23.5)\n",
            "Requirement already satisfied: opt-einsum>=2.3.2 in /usr/local/lib/python3.10/dist-packages (from tensorflow==2.12) (3.3.0)\n",
            "Requirement already satisfied: packaging in /usr/local/lib/python3.10/dist-packages (from tensorflow==2.12) (24.0)\n",
            "Requirement already satisfied: protobuf!=4.21.0,!=4.21.1,!=4.21.2,!=4.21.3,!=4.21.4,!=4.21.5,<5.0.0dev,>=3.20.3 in /usr/local/lib/python3.10/dist-packages (from tensorflow==2.12) (3.20.3)\n",
            "Requirement already satisfied: setuptools in /usr/local/lib/python3.10/dist-packages (from tensorflow==2.12) (67.7.2)\n",
            "Requirement already satisfied: six>=1.12.0 in /usr/local/lib/python3.10/dist-packages (from tensorflow==2.12) (1.16.0)\n",
            "Requirement already satisfied: tensorboard<2.13,>=2.12 in /usr/local/lib/python3.10/dist-packages (from tensorflow==2.12) (2.12.3)\n",
            "Requirement already satisfied: tensorflow-estimator<2.13,>=2.12.0 in /usr/local/lib/python3.10/dist-packages (from tensorflow==2.12) (2.12.0)\n",
            "Requirement already satisfied: termcolor>=1.1.0 in /usr/local/lib/python3.10/dist-packages (from tensorflow==2.12) (2.4.0)\n",
            "Requirement already satisfied: typing-extensions>=3.6.6 in /usr/local/lib/python3.10/dist-packages (from tensorflow==2.12) (4.11.0)\n",
            "Requirement already satisfied: wrapt<1.15,>=1.11.0 in /usr/local/lib/python3.10/dist-packages (from tensorflow==2.12) (1.14.1)\n",
            "Requirement already satisfied: tensorflow-io-gcs-filesystem>=0.23.1 in /usr/local/lib/python3.10/dist-packages (from tensorflow==2.12) (0.37.0)\n",
            "Requirement already satisfied: wheel<1.0,>=0.23.0 in /usr/local/lib/python3.10/dist-packages (from astunparse>=1.6.0->tensorflow==2.12) (0.43.0)\n",
            "Requirement already satisfied: ml-dtypes>=0.2.0 in /usr/local/lib/python3.10/dist-packages (from jax>=0.3.15->tensorflow==2.12) (0.2.0)\n",
            "Requirement already satisfied: scipy>=1.9 in /usr/local/lib/python3.10/dist-packages (from jax>=0.3.15->tensorflow==2.12) (1.11.4)\n",
            "Requirement already satisfied: google-auth<3,>=1.6.3 in /usr/local/lib/python3.10/dist-packages (from tensorboard<2.13,>=2.12->tensorflow==2.12) (2.27.0)\n",
            "Requirement already satisfied: google-auth-oauthlib<1.1,>=0.5 in /usr/local/lib/python3.10/dist-packages (from tensorboard<2.13,>=2.12->tensorflow==2.12) (1.0.0)\n",
            "Requirement already satisfied: markdown>=2.6.8 in /usr/local/lib/python3.10/dist-packages (from tensorboard<2.13,>=2.12->tensorflow==2.12) (3.6)\n",
            "Requirement already satisfied: requests<3,>=2.21.0 in /usr/local/lib/python3.10/dist-packages (from tensorboard<2.13,>=2.12->tensorflow==2.12) (2.31.0)\n",
            "Requirement already satisfied: tensorboard-data-server<0.8.0,>=0.7.0 in /usr/local/lib/python3.10/dist-packages (from tensorboard<2.13,>=2.12->tensorflow==2.12) (0.7.2)\n",
            "Requirement already satisfied: werkzeug>=1.0.1 in /usr/local/lib/python3.10/dist-packages (from tensorboard<2.13,>=2.12->tensorflow==2.12) (3.0.3)\n",
            "Requirement already satisfied: cachetools<6.0,>=2.0.0 in /usr/local/lib/python3.10/dist-packages (from google-auth<3,>=1.6.3->tensorboard<2.13,>=2.12->tensorflow==2.12) (5.3.3)\n",
            "Requirement already satisfied: pyasn1-modules>=0.2.1 in /usr/local/lib/python3.10/dist-packages (from google-auth<3,>=1.6.3->tensorboard<2.13,>=2.12->tensorflow==2.12) (0.4.0)\n",
            "Requirement already satisfied: rsa<5,>=3.1.4 in /usr/local/lib/python3.10/dist-packages (from google-auth<3,>=1.6.3->tensorboard<2.13,>=2.12->tensorflow==2.12) (4.9)\n",
            "Requirement already satisfied: requests-oauthlib>=0.7.0 in /usr/local/lib/python3.10/dist-packages (from google-auth-oauthlib<1.1,>=0.5->tensorboard<2.13,>=2.12->tensorflow==2.12) (1.3.1)\n",
            "Requirement already satisfied: charset-normalizer<4,>=2 in /usr/local/lib/python3.10/dist-packages (from requests<3,>=2.21.0->tensorboard<2.13,>=2.12->tensorflow==2.12) (3.3.2)\n",
            "Requirement already satisfied: idna<4,>=2.5 in /usr/local/lib/python3.10/dist-packages (from requests<3,>=2.21.0->tensorboard<2.13,>=2.12->tensorflow==2.12) (3.7)\n",
            "Requirement already satisfied: urllib3<3,>=1.21.1 in /usr/local/lib/python3.10/dist-packages (from requests<3,>=2.21.0->tensorboard<2.13,>=2.12->tensorflow==2.12) (2.0.7)\n",
            "Requirement already satisfied: certifi>=2017.4.17 in /usr/local/lib/python3.10/dist-packages (from requests<3,>=2.21.0->tensorboard<2.13,>=2.12->tensorflow==2.12) (2024.2.2)\n",
            "Requirement already satisfied: MarkupSafe>=2.1.1 in /usr/local/lib/python3.10/dist-packages (from werkzeug>=1.0.1->tensorboard<2.13,>=2.12->tensorflow==2.12) (2.1.5)\n",
            "Requirement already satisfied: pyasn1<0.7.0,>=0.4.6 in /usr/local/lib/python3.10/dist-packages (from pyasn1-modules>=0.2.1->google-auth<3,>=1.6.3->tensorboard<2.13,>=2.12->tensorflow==2.12) (0.6.0)\n",
            "Requirement already satisfied: oauthlib>=3.0.0 in /usr/local/lib/python3.10/dist-packages (from requests-oauthlib>=0.7.0->google-auth-oauthlib<1.1,>=0.5->tensorboard<2.13,>=2.12->tensorflow==2.12) (3.2.2)\n",
            "Installing collected packages: tensorflow\n",
            "\u001b[31mERROR: pip's dependency resolver does not currently take into account all the packages that are installed. This behaviour is the source of the following dependency conflicts.\n",
            "tf-keras 2.15.1 requires tensorflow<2.16,>=2.15, but you have tensorflow 2.12.0 which is incompatible.\u001b[0m\u001b[31m\n",
            "\u001b[0mSuccessfully installed tensorflow-2.12.0\n"
          ]
        }
      ]
    },
    {
      "cell_type": "code",
      "execution_count": null,
      "metadata": {
        "colab": {
          "base_uri": "https://localhost:8080/"
        },
        "id": "2_8vuS-3aXJr",
        "outputId": "58f95015-bed2-43e3-86d9-ac0a0871fc47"
      },
      "outputs": [
        {
          "output_type": "stream",
          "name": "stdout",
          "text": [
            "CPU times: user 3.21 s, sys: 573 ms, total: 3.79 s\n",
            "Wall time: 4.59 s\n"
          ]
        }
      ],
      "source": [
        "%%time\n",
        "#ANN\n",
        "from keras.models import Sequential, Model\n",
        "from keras.layers import Dense, Input\n",
        "from sklearn.model_selection import GridSearchCV\n",
        "from keras.wrappers.scikit_learn import KerasRegressor\n",
        "from keras.callbacks import EarlyStopping\n",
        "def ANN(optimizer = 'adam',neurons=32,batch_size=32,epochs=20,activation='relu',patience=5,loss='mse'):\n",
        "    model = Sequential()\n",
        "    model.add(Dense(neurons, input_shape=(X.shape[1],), activation=activation))\n",
        "    model.add(Dense(neurons, activation=activation))\n",
        "    model.add(Dense(1))\n",
        "    model.compile(optimizer = optimizer, loss=loss)\n",
        "    early_stopping = EarlyStopping(monitor=\"loss\", patience = patience)# early stop patience\n",
        "    history = model.fit(X, y,\n",
        "              batch_size=batch_size,\n",
        "              epochs=epochs,\n",
        "              callbacks = [early_stopping],\n",
        "              verbose=0) #verbose set to 1 will show the training process\n",
        "    return model"
      ]
    },
    {
      "cell_type": "code",
      "execution_count": null,
      "metadata": {
        "colab": {
          "base_uri": "https://localhost:8080/"
        },
        "id": "ZbHt54tMaXJr",
        "outputId": "3654edee-d094-4072-e2f2-c7ac0e51bd25",
        "scrolled": true
      },
      "outputs": [
        {
          "output_type": "stream",
          "name": "stderr",
          "text": [
            "<timed exec>:1: DeprecationWarning: KerasRegressor is deprecated, use Sci-Keras (https://github.com/adriangb/scikeras) instead. See https://www.adriangb.com/scikeras/stable/migration.html for help migrating.\n"
          ]
        },
        {
          "output_type": "stream",
          "name": "stdout",
          "text": [
            "MSE:9706.455642973022\n",
            "CPU times: user 6.36 s, sys: 285 ms, total: 6.65 s\n",
            "Wall time: 6.4 s\n"
          ]
        }
      ],
      "source": [
        "%%time\n",
        "clf = KerasRegressor(build_fn=ANN,verbose=0)\n",
        "scores = cross_val_score(clf, X, y, cv=3,scoring='neg_mean_squared_error')\n",
        "print(\"MSE:\"+ str(-scores.mean()))"
      ]
    },
    {
      "cell_type": "markdown",
      "metadata": {
        "id": "i3f_O6wkaXJs"
      },
      "source": [
        "## HPO Algorithm 1: Grid Search\n",
        "모든 하이퍼파라미터 설정에 대해 탐색\n",
        "\n",
        "**Advantages:**\n",
        "* 쉬운 구현.\n",
        "\n",
        "**Disadvantages:**\n",
        "* 시간을 많이 소모,\n",
        "* Categorical HPs에만 효율적임."
      ]
    },
    {
      "cell_type": "code",
      "execution_count": null,
      "metadata": {
        "colab": {
          "base_uri": "https://localhost:8080/"
        },
        "id": "ElRLNvW7aXJs",
        "outputId": "66df214b-ba83-483d-f2bf-15219e3aeac8"
      },
      "outputs": [
        {
          "output_type": "stream",
          "name": "stdout",
          "text": [
            "{'max_depth': 15, 'n_estimators': 1000}\n",
            "MSE:4239.205673986182\n",
            "CPU times: user 1min 10s, sys: 795 ms, total: 1min 11s\n",
            "Wall time: 1min 13s\n"
          ]
        }
      ],
      "source": [
        "%%time\n",
        "#Random Forest\n",
        "from sklearn.model_selection import GridSearchCV\n",
        "# Define the hyperparameter configuration space\n",
        "rf_params = {\n",
        "    'n_estimators': [10, 20, 30,1000],\n",
        "    #'max_features': ['sqrt',0.5],\n",
        "    'max_depth': [15,20,30,50],\n",
        "    #'min_samples_leaf': [1,2,4,8],\n",
        "    #\"bootstrap\":[True,False],\n",
        "    #\"criterion\":['squared_error','absolute_error']\n",
        "}\n",
        "clf = RandomForestRegressor(random_state=0)\n",
        "grid = GridSearchCV(clf, rf_params, cv=3, scoring='neg_mean_squared_error')\n",
        "grid.fit(X, y)\n",
        "print(grid.best_params_)\n",
        "print(\"MSE:\"+ str(-grid.best_score_))"
      ]
    },
    {
      "cell_type": "code",
      "execution_count": null,
      "metadata": {
        "colab": {
          "base_uri": "https://localhost:8080/"
        },
        "id": "nHEPsXZgaXJs",
        "outputId": "a57f2ddd-c464-435b-aa31-dc1463790188"
      },
      "outputs": [
        {
          "output_type": "stream",
          "name": "stdout",
          "text": [
            "{'C': 100, 'epsilon': 1, 'kernel': 'rbf'}\n",
            "MSE:11167.008760072393\n",
            "CPU times: user 7.6 s, sys: 14.1 ms, total: 7.61 s\n",
            "Wall time: 9.16 s\n"
          ]
        }
      ],
      "source": [
        "%%time\n",
        "#SVM\n",
        "from sklearn.model_selection import GridSearchCV\n",
        "rf_params = {\n",
        "    'C': [1,10, 100],\n",
        "    \"kernel\":['poly','rbf','sigmoid'],\n",
        "    \"epsilon\":[0.01,0.1,1]\n",
        "}\n",
        "clf = SVR(gamma='scale')\n",
        "grid = GridSearchCV(clf, rf_params, cv=3, scoring='neg_mean_squared_error')\n",
        "grid.fit(X, y)\n",
        "print(grid.best_params_)\n",
        "print(\"MSE:\"+ str(-grid.best_score_))"
      ]
    },
    {
      "cell_type": "code",
      "execution_count": null,
      "metadata": {
        "colab": {
          "base_uri": "https://localhost:8080/"
        },
        "id": "NdZ4B4RBaXJt",
        "outputId": "af087645-e644-4e5e-9a08-531716a125d3"
      },
      "outputs": [
        {
          "output_type": "stream",
          "name": "stdout",
          "text": [
            "{'n_neighbors': 10}\n",
            "MSE:10731.542835558219\n",
            "CPU times: user 100 ms, sys: 537 µs, total: 101 ms\n",
            "Wall time: 101 ms\n"
          ]
        }
      ],
      "source": [
        "%%time\n",
        "#KNN\n",
        "from sklearn.model_selection import GridSearchCV\n",
        "rf_params = {\n",
        "    'n_neighbors': [2, 3, 5, 7, 10]\n",
        "}\n",
        "clf = KNeighborsRegressor()\n",
        "grid = GridSearchCV(clf, rf_params, cv=3, scoring='neg_mean_squared_error')\n",
        "grid.fit(X, y)\n",
        "print(grid.best_params_)\n",
        "print(\"MSE:\"+ str(-grid.best_score_))"
      ]
    },
    {
      "cell_type": "code",
      "execution_count": null,
      "metadata": {
        "colab": {
          "base_uri": "https://localhost:8080/"
        },
        "id": "AawWevXaaXJu",
        "outputId": "2489ef05-2571-4e76-f0cc-df8b6d52c0bd"
      },
      "outputs": [
        {
          "output_type": "stream",
          "name": "stderr",
          "text": [
            "<timed exec>:12: DeprecationWarning: KerasRegressor is deprecated, use Sci-Keras (https://github.com/adriangb/scikeras) instead. See https://www.adriangb.com/scikeras/stable/migration.html for help migrating.\n"
          ]
        },
        {
          "output_type": "stream",
          "name": "stdout",
          "text": [
            "{'activation': 'relu', 'batch_size': 16, 'loss': 'mse', 'neurons': 32, 'optimizer': 'adam', 'patience': 5}\n",
            "MSE:8684.410576285858\n",
            "CPU times: user 8min 19s, sys: 18.6 s, total: 8min 37s\n",
            "Wall time: 9min 10s\n"
          ]
        }
      ],
      "source": [
        "%%time\n",
        "#ANN\n",
        "from sklearn.model_selection import GridSearchCV\n",
        "rf_params = {\n",
        "    'optimizer': ['adam','rmsprop'],\n",
        "    'activation': ['relu','tanh'],\n",
        "    'loss': ['mse','mae'],\n",
        "    'batch_size': [16,32],\n",
        "    'neurons':[16,32],\n",
        "    #'epochs':[20,50],\n",
        "    'patience':[2,5]\n",
        "}\n",
        "clf = KerasRegressor(build_fn=ANN, verbose=0)\n",
        "grid = GridSearchCV(clf, rf_params, cv=3,scoring='neg_mean_squared_error')\n",
        "grid.fit(X, y)\n",
        "print(grid.best_params_)\n",
        "print(\"MSE:\"+ str(-grid.best_score_))"
      ]
    },
    {
      "cell_type": "markdown",
      "metadata": {
        "id": "r8btri3ZaXJu"
      },
      "source": [
        "## HPO Algorithm 2: Random Search\n",
        "주어진 Search Space에서 하이퍼파라미터 random 탐색\n",
        "\n",
        "**Advantages:**\n",
        "* Grid Search 보다 효율적인 탐색.\n",
        "* 병렬 처리가 가능함.\n",
        "\n",
        "**Disadvantages:**\n",
        "* 이전 결과를 활용하지 않음.\n",
        "* 조건부 HPs에 비효율적."
      ]
    },
    {
      "cell_type": "code",
      "execution_count": null,
      "metadata": {
        "colab": {
          "base_uri": "https://localhost:8080/"
        },
        "id": "yIwRzqR_aXJu",
        "outputId": "bf1cb5f8-288e-46b4-a286-ad54d0df73b3"
      },
      "outputs": [
        {
          "output_type": "stream",
          "name": "stdout",
          "text": [
            "{'criterion': 'absolute_error', 'max_depth': 31, 'max_features': 10, 'min_samples_leaf': 2, 'min_samples_split': 4, 'n_estimators': 25}\n",
            "MSE:4173.989345923193\n",
            "CPU times: user 32.1 s, sys: 63.5 ms, total: 32.2 s\n",
            "Wall time: 32.6 s\n"
          ]
        }
      ],
      "source": [
        "%%time\n",
        "#Random Forest\n",
        "from scipy.stats import randint as sp_randint\n",
        "from sklearn.model_selection import RandomizedSearchCV\n",
        "# Define the hyperparameter configuration space\n",
        "rf_params = {\n",
        "    'n_estimators': sp_randint(10,100),\n",
        "    \"max_features\":sp_randint(1,13),\n",
        "    'max_depth': sp_randint(5,50),\n",
        "    \"min_samples_split\":sp_randint(2,11),\n",
        "    \"min_samples_leaf\":sp_randint(1,11),\n",
        "    \"criterion\":['squared_error','absolute_error']\n",
        "}\n",
        "n_iter_search=20 #number of iterations is set to 20, you can increase this number if time permits\n",
        "clf = RandomForestRegressor(random_state=0)\n",
        "Random = RandomizedSearchCV(clf, param_distributions=rf_params,n_iter=n_iter_search,cv=3,scoring='neg_mean_squared_error')\n",
        "Random.fit(X, y)\n",
        "print(Random.best_params_)\n",
        "print(\"MSE:\"+ str(-Random.best_score_))"
      ]
    },
    {
      "cell_type": "code",
      "execution_count": null,
      "metadata": {
        "colab": {
          "base_uri": "https://localhost:8080/"
        },
        "id": "3h3clBXjaXJv",
        "outputId": "a1fa8427-dc06-4b2f-ac94-464de1fbe478"
      },
      "outputs": [
        {
          "output_type": "stream",
          "name": "stdout",
          "text": [
            "{'C': 40.08982908841428, 'epsilon': 0.21615752626754992, 'kernel': 'rbf'}\n",
            "MSE:11525.728500836087\n",
            "CPU times: user 5.11 s, sys: 13.4 ms, total: 5.12 s\n",
            "Wall time: 5.26 s\n"
          ]
        }
      ],
      "source": [
        "%%time\n",
        "#SVM\n",
        "from scipy.stats import randint as sp_randint\n",
        "from sklearn.model_selection import RandomizedSearchCV\n",
        "rf_params = {\n",
        "    'C': stats.uniform(0,50),\n",
        "    \"kernel\":['poly','rbf','sigmoid'],\n",
        "    \"epsilon\":stats.uniform(0,1)\n",
        "}\n",
        "n_iter_search=20\n",
        "clf = SVR(gamma='scale')\n",
        "Random = RandomizedSearchCV(clf, param_distributions=rf_params,n_iter=n_iter_search,cv=3,scoring='neg_mean_squared_error')\n",
        "Random.fit(X, y)\n",
        "print(Random.best_params_)\n",
        "print(\"MSE:\"+ str(-Random.best_score_))"
      ]
    },
    {
      "cell_type": "code",
      "execution_count": null,
      "metadata": {
        "colab": {
          "base_uri": "https://localhost:8080/"
        },
        "id": "IzyEVRHoaXJv",
        "outputId": "8458dc6d-35cc-4083-e0ec-08e673f0c94f"
      },
      "outputs": [
        {
          "output_type": "stream",
          "name": "stdout",
          "text": [
            "{'n_neighbors': 13}\n",
            "MSE:10629.136705574709\n",
            "CPU times: user 206 ms, sys: 905 µs, total: 207 ms\n",
            "Wall time: 207 ms\n"
          ]
        }
      ],
      "source": [
        "%%time\n",
        "#KNN\n",
        "from scipy.stats import randint as sp_randint\n",
        "from sklearn.model_selection import RandomizedSearchCV\n",
        "rf_params = {\n",
        "    'n_neighbors': sp_randint(1,20),\n",
        "}\n",
        "n_iter_search=10\n",
        "clf = KNeighborsRegressor()\n",
        "Random = RandomizedSearchCV(clf, param_distributions=rf_params,n_iter=n_iter_search,cv=3,scoring='neg_mean_squared_error')\n",
        "Random.fit(X, y)\n",
        "print(Random.best_params_)\n",
        "print(\"MSE:\"+ str(-Random.best_score_))"
      ]
    },
    {
      "cell_type": "code",
      "execution_count": null,
      "metadata": {
        "colab": {
          "base_uri": "https://localhost:8080/"
        },
        "id": "ch1Pwt4HaXJv",
        "outputId": "f695777c-645f-4398-ef4f-fd60066dd659"
      },
      "outputs": [
        {
          "output_type": "stream",
          "name": "stdout",
          "text": [
            "{'activation': 'relu', 'batch_size': 16, 'epochs': 50, 'loss': 'mse', 'neurons': 60, 'optimizer': 'adam', 'patience': 11}\n",
            "MSE:5628.858147944527\n",
            "CPU times: user 3min 28s, sys: 7.84 s, total: 3min 36s\n",
            "Wall time: 3min 59s\n"
          ]
        }
      ],
      "source": [
        "%%time\n",
        "#ANN\n",
        "from scipy.stats import randint as sp_randint\n",
        "from random import randrange as sp_randrange\n",
        "from sklearn.model_selection import RandomizedSearchCV\n",
        "rf_params = {\n",
        "    'optimizer': ['adam','rmsprop'],\n",
        "    'activation': ['relu','tanh'],\n",
        "    'loss': ['mse','mae'],\n",
        "    'batch_size': [16,32,64],\n",
        "    'neurons':sp_randint(10,100),\n",
        "    'epochs':[20,50],\n",
        "    #'epochs':[20,50,100,200],\n",
        "    'patience':sp_randint(3,20)\n",
        "}\n",
        "n_iter_search=10\n",
        "clf = KerasRegressor(build_fn=ANN, verbose=0)\n",
        "Random = RandomizedSearchCV(clf, param_distributions=rf_params,n_iter=n_iter_search,cv=3,scoring='neg_mean_squared_error')\n",
        "Random.fit(X, y)\n",
        "print(Random.best_params_)\n",
        "print(\"MSE:\"+ str(-Random.best_score_))"
      ]
    },
    {
      "cell_type": "markdown",
      "metadata": {
        "id": "TCge1Oh1aXJw"
      },
      "source": [
        "## HPO Algorithm 3: Successive Halving\n",
        "Generate small-sized subsets and allocate budgets to each hyper-parameter combination based on its performance\n",
        "\n",
        "**Advantages:**\n",
        "* 병렬 처리가 가능함.\n",
        "\n",
        "**Disadvantages:**\n",
        "* 조건부 HPs에 비효율적."
      ]
    },
    {
      "cell_type": "code",
      "execution_count": null,
      "metadata": {
        "colab": {
          "base_uri": "https://localhost:8080/"
        },
        "id": "4nsJZ3T_aXJw",
        "outputId": "d6407964-6668-4f92-9f4e-d7958cc0cdef"
      },
      "outputs": [
        {
          "output_type": "stream",
          "name": "stdout",
          "text": [
            "{'criterion': 'absolute_error', 'max_depth': 7, 'max_features': 6, 'min_samples_leaf': 2, 'min_samples_split': 10, 'n_estimators': 88}\n",
            "MSE:5196.312268354069\n",
            "CPU times: user 1min 7s, sys: 475 ms, total: 1min 8s\n",
            "Wall time: 1min 8s\n"
          ]
        }
      ],
      "source": [
        "%%time\n",
        "#Random Forest\n",
        "from sklearn.experimental import enable_halving_search_cv\n",
        "from sklearn.model_selection import HalvingRandomSearchCV\n",
        "from scipy.stats import randint as sp_randint\n",
        "# Define the hyperparameter configuration space\n",
        "rf_params = {\n",
        "    'n_estimators': sp_randint(10,100),\n",
        "    \"max_features\":sp_randint(1,13),\n",
        "    'max_depth': sp_randint(5,50),\n",
        "    \"min_samples_split\":sp_randint(2,11),\n",
        "    \"min_samples_leaf\":sp_randint(1,11),\n",
        "    \"criterion\":['squared_error','absolute_error']\n",
        "}\n",
        "clf = RandomForestRegressor(random_state=0)\n",
        "#hyper = HalvingRandomSearchCV(clf, param_distributions =rf_params,cv=3,min_iter=10,max_iter=100,scoring='neg_mean_squared_error')\n",
        "hyper = HalvingRandomSearchCV(clf, param_distributions =rf_params,cv=3,scoring='neg_mean_squared_error')\n",
        "hyper.fit(X, y)\n",
        "print(hyper.best_params_)\n",
        "print(\"MSE:\"+ str(-hyper.best_score_))"
      ]
    },
    {
      "cell_type": "code",
      "execution_count": null,
      "metadata": {
        "colab": {
          "base_uri": "https://localhost:8080/"
        },
        "id": "v_1HV1sJaXJw",
        "outputId": "e0bec1ae-ab4e-46fc-c631-9d816d870a62"
      },
      "outputs": [
        {
          "output_type": "stream",
          "name": "stdout",
          "text": [
            "{'C': 20.64001765789843, 'epsilon': 0.7864329975009188, 'kernel': 'rbf'}\n",
            "MSE:12785.13641792137\n",
            "CPU times: user 4.21 s, sys: 10.2 ms, total: 4.22 s\n",
            "Wall time: 4.23 s\n"
          ]
        }
      ],
      "source": [
        "%%time\n",
        "#SVM\n",
        "from scipy.stats import randint as sp_randint\n",
        "rf_params = {\n",
        "    'C': stats.uniform(0,50),\n",
        "    \"kernel\":['poly','rbf','sigmoid'],\n",
        "    \"epsilon\":stats.uniform(0,1)\n",
        "}\n",
        "clf = SVR(gamma='scale')\n",
        "#hyper = HalvingRandomSearchCV(clf, param_distributions =rf_params,cv=3,min_iter=1,max_iter=10,scoring='neg_mean_squared_error',resource_param='C')\n",
        "hyper = HalvingRandomSearchCV(clf, param_distributions =rf_params,cv=3,scoring='neg_mean_squared_error')\n",
        "hyper.fit(X, y)\n",
        "print(hyper.best_params_)\n",
        "print(\"MSE:\"+ str(-hyper.best_score_))"
      ]
    },
    {
      "cell_type": "code",
      "execution_count": null,
      "metadata": {
        "colab": {
          "base_uri": "https://localhost:8080/"
        },
        "id": "ELGAyFaXaXJw",
        "outputId": "ddc1da5c-b6a9-4e42-82b3-3def4cee4ab9"
      },
      "outputs": [
        {
          "output_type": "stream",
          "name": "stdout",
          "text": [
            "{'n_neighbors': 11}\n",
            "MSE:10908.113461385748\n"
          ]
        }
      ],
      "source": [
        "#KNN\n",
        "from scipy.stats import randint as sp_randint\n",
        "rf_params = {\n",
        "    'n_neighbors': range(1,20),\n",
        "}\n",
        "clf = KNeighborsRegressor()\n",
        "#hyper = HalvingRandomSearchCV(clf, param_distributions =rf_params,cv=3,min_iter=1,max_iter=20,scoring='neg_mean_squared_error',resource_param='n_neighbors')\n",
        "hyper = HalvingRandomSearchCV(clf, param_distributions =rf_params,cv=3, min_resources =200,scoring='neg_mean_squared_error')\n",
        "hyper.fit(X, y)\n",
        "print(hyper.best_params_)\n",
        "print(\"MSE:\"+ str(-hyper.best_score_))"
      ]
    },
    {
      "cell_type": "code",
      "execution_count": null,
      "metadata": {
        "colab": {
          "base_uri": "https://localhost:8080/"
        },
        "id": "GKlnUOS1aXJw",
        "outputId": "59811c4d-ef7b-4d31-91dd-70f1ae8b1118"
      },
      "outputs": [
        {
          "output_type": "stream",
          "name": "stderr",
          "text": [
            "<timed exec>:13: DeprecationWarning: KerasRegressor is deprecated, use Sci-Keras (https://github.com/adriangb/scikeras) instead. See https://www.adriangb.com/scikeras/stable/migration.html for help migrating.\n"
          ]
        },
        {
          "output_type": "stream",
          "name": "stdout",
          "text": [
            "{'activation': 'relu', 'batch_size': 64, 'loss': 'mae', 'neurons': 76, 'optimizer': 'rmsprop', 'patience': 12}\n",
            "MSE:15970.557058411054\n",
            "CPU times: user 41 s, sys: 1.15 s, total: 42.2 s\n",
            "Wall time: 42.8 s\n"
          ]
        }
      ],
      "source": [
        "%%time\n",
        "#ANN\n",
        "from scipy.stats import randint as sp_randint\n",
        "rf_params = {\n",
        "    'optimizer': ['adam','rmsprop'],\n",
        "    'activation': ['relu','tanh'],\n",
        "    'loss': ['mse','mae'],\n",
        "    'batch_size': [16,32,64],\n",
        "    'neurons':sp_randint(10,100),\n",
        "    #'epochs':[20,50],\n",
        "    #'epochs':[20,50,100,200],\n",
        "    'patience':sp_randint(3,20)\n",
        "}\n",
        "clf = KerasRegressor(build_fn=ANN, epochs=20, verbose=0)\n",
        "#hyper = HalvingRandomSearchCV(clf, param_distributions =rf_params,cv=3,min_iter=1,max_iter=10,scoring='neg_mean_squared_error',resource_param='epochs')\n",
        "hyper = HalvingRandomSearchCV(clf, param_distributions =rf_params,min_resources =200,cv=3,scoring='neg_mean_squared_error')\n",
        "hyper.fit(X, y)\n",
        "print(hyper.best_params_)\n",
        "print(\"MSE:\"+ str(-hyper.best_score_))"
      ]
    },
    {
      "cell_type": "markdown",
      "metadata": {
        "id": "I4s_3G8maXJx"
      },
      "source": [
        "## HPO Algorithm 4: BO-GP\n",
        "Bayesian Optimization with Gaussian Process (BO-GP)\n",
        "\n",
        "**Advantages:**\n",
        "* continuous HPs 대해서 빠른 수렴.\n",
        "\n",
        "**Disadvantages:**\n",
        "* 병렬 처리가 어려움.\n",
        "* 조건부 HPs에 비효율적."
      ]
    },
    {
      "cell_type": "markdown",
      "metadata": {
        "id": "oJIswwWQaXJx"
      },
      "source": [
        "### Using skopt.BayesSearchCV"
      ]
    },
    {
      "cell_type": "code",
      "execution_count": null,
      "metadata": {
        "colab": {
          "base_uri": "https://localhost:8080/"
        },
        "id": "ZL9MwdJGaXJx",
        "outputId": "f3a8766f-7980-4ffa-fb40-5558f7812251"
      },
      "outputs": [
        {
          "output_type": "stream",
          "name": "stdout",
          "text": [
            "OrderedDict([('criterion', 'squared_error'), ('max_depth', 30), ('max_features', 7), ('min_samples_leaf', 1), ('min_samples_split', 11), ('n_estimators', 93)])\n",
            "MSE:4162.368778339158\n",
            "CPU times: user 50 s, sys: 10.9 s, total: 1min\n",
            "Wall time: 52.1 s\n"
          ]
        }
      ],
      "source": [
        "%%time\n",
        "#Random Forest\n",
        "from skopt import Optimizer\n",
        "from skopt import BayesSearchCV\n",
        "from skopt.space import Real, Categorical, Integer\n",
        "# Define the hyperparameter configuration space\n",
        "rf_params = {\n",
        "    'n_estimators': Integer(10,100),\n",
        "    \"max_features\":Integer(1,13),\n",
        "    'max_depth': Integer(5,50),\n",
        "    \"min_samples_split\":Integer(2,11),\n",
        "    \"min_samples_leaf\":Integer(1,11),\n",
        "    \"criterion\":['squared_error','absolute_error']\n",
        "}\n",
        "clf = RandomForestRegressor(random_state=0)\n",
        "Bayes = BayesSearchCV(clf, rf_params,cv=3,n_iter=20, scoring='neg_mean_squared_error')\n",
        "#number of iterations is set to 20, you can increase this number if time permits\n",
        "Bayes.fit(X, y)\n",
        "print(Bayes.best_params_)\n",
        "bclf = Bayes.best_estimator_\n",
        "print(\"MSE:\"+ str(-Bayes.best_score_))"
      ]
    },
    {
      "cell_type": "code",
      "execution_count": null,
      "metadata": {
        "colab": {
          "base_uri": "https://localhost:8080/"
        },
        "id": "D1xw9kqsaXJx",
        "outputId": "052e6b42-99ea-4193-92b7-557d23acfd9d"
      },
      "outputs": [
        {
          "output_type": "stream",
          "name": "stdout",
          "text": [
            "OrderedDict([('C', 50.0), ('epsilon', 0.0), ('kernel', 'rbf')])\n",
            "MSE:11445.455116358688\n",
            "CPU times: user 21 s, sys: 7.92 s, total: 28.9 s\n",
            "Wall time: 22.2 s\n"
          ]
        }
      ],
      "source": [
        "%%time\n",
        "#SVM\n",
        "from skopt import Optimizer\n",
        "from skopt import BayesSearchCV\n",
        "from skopt.space import Real, Categorical, Integer\n",
        "rf_params = {\n",
        "    'C': Real(1e-6,50),\n",
        "    \"kernel\":['poly','rbf','sigmoid'],\n",
        "    'epsilon': Real(0,1)\n",
        "}\n",
        "clf = SVR(gamma='scale')\n",
        "Bayes = BayesSearchCV(clf, rf_params,cv=3,n_iter=20, scoring='neg_mean_squared_error')\n",
        "Bayes.fit(X, y)\n",
        "print(Bayes.best_params_)\n",
        "print(\"MSE:\"+ str(-Bayes.best_score_))"
      ]
    },
    {
      "cell_type": "code",
      "execution_count": null,
      "metadata": {
        "colab": {
          "base_uri": "https://localhost:8080/"
        },
        "id": "DYbhLULZaXJy",
        "outputId": "ef5fda4d-aad3-4e6a-cdb3-1b10636a1b0d"
      },
      "outputs": [
        {
          "output_type": "stream",
          "name": "stdout",
          "text": [
            "OrderedDict([('n_neighbors', 19)])\n",
            "MSE:10681.831433212941\n",
            "CPU times: user 1.18 s, sys: 589 ms, total: 1.76 s\n",
            "Wall time: 1.38 s\n"
          ]
        }
      ],
      "source": [
        "%%time\n",
        "#KNN\n",
        "from skopt import Optimizer\n",
        "from skopt import BayesSearchCV\n",
        "from skopt.space import Real, Categorical, Integer\n",
        "rf_params = {\n",
        "    'n_neighbors': Integer(1,20),\n",
        "}\n",
        "clf = KNeighborsRegressor()\n",
        "Bayes = BayesSearchCV(clf, rf_params,cv=3,n_iter=10, scoring='neg_mean_squared_error')\n",
        "Bayes.fit(X, y)\n",
        "print(Bayes.best_params_)\n",
        "print(\"MSE:\"+ str(-Bayes.best_score_))"
      ]
    },
    {
      "cell_type": "code",
      "execution_count": null,
      "metadata": {
        "colab": {
          "base_uri": "https://localhost:8080/"
        },
        "id": "xnvAbPZZaXJy",
        "outputId": "69e4ba15-8fa3-406d-c21e-5e45601af382"
      },
      "outputs": [
        {
          "output_type": "stream",
          "name": "stderr",
          "text": [
            "<timed exec>:15: DeprecationWarning: KerasRegressor is deprecated, use Sci-Keras (https://github.com/adriangb/scikeras) instead. See https://www.adriangb.com/scikeras/stable/migration.html for help migrating.\n"
          ]
        },
        {
          "output_type": "stream",
          "name": "stdout",
          "text": [
            "OrderedDict([('activation', 'relu'), ('batch_size', 16), ('loss', 'mse'), ('neurons', 88), ('optimizer', 'rmsprop'), ('patience', 14)])\n",
            "MSE:8328.259360544387\n",
            "CPU times: user 1min 10s, sys: 3.57 s, total: 1min 14s\n",
            "Wall time: 1min 18s\n"
          ]
        }
      ],
      "source": [
        "%%time\n",
        "#ANN\n",
        "from skopt import Optimizer\n",
        "from skopt import BayesSearchCV\n",
        "from skopt.space import Real, Categorical, Integer\n",
        "rf_params = {\n",
        "    'optimizer': ['adam','rmsprop'],\n",
        "    'activation': ['relu','tanh'],\n",
        "    'loss': ['mse','mae'],\n",
        "    'batch_size': [16,32,64],\n",
        "    'neurons':Integer(10,100),\n",
        "    #'epochs':[20,50],\n",
        "    #'epochs':[20,50,100,200],\n",
        "    'patience':Integer(3,20)\n",
        "}\n",
        "clf = KerasRegressor(build_fn=ANN, verbose=0)\n",
        "Bayes = BayesSearchCV(clf, rf_params,cv=3,n_iter=10, scoring='neg_mean_squared_error')\n",
        "Bayes.fit(X, y)\n",
        "print(Bayes.best_params_)\n",
        "print(\"MSE:\"+ str(-Bayes.best_score_))"
      ]
    },
    {
      "cell_type": "markdown",
      "metadata": {
        "id": "EdBI3l8iaXJy"
      },
      "source": [
        "### Using skopt.gp_minimize"
      ]
    },
    {
      "cell_type": "code",
      "execution_count": null,
      "metadata": {
        "colab": {
          "base_uri": "https://localhost:8080/"
        },
        "id": "bgfhP8tiaXJz",
        "outputId": "dafd4f1c-7ce9-4d3e-b3b7-25bd3663c111"
      },
      "outputs": [
        {
          "output_type": "stream",
          "name": "stderr",
          "text": [
            "/usr/local/lib/python3.10/dist-packages/joblib/externals/loky/backend/fork_exec.py:38: RuntimeWarning: os.fork() was called. os.fork() is incompatible with multithreaded code, and JAX is multithreaded, so this will likely lead to a deadlock.\n",
            "  pid = os.fork()\n"
          ]
        },
        {
          "output_type": "stream",
          "name": "stdout",
          "text": [
            "MSE:4097.2734\n",
            "[75, 31, 7, 9, 2, 'squared_error']\n",
            "CPU times: user 9.16 s, sys: 3.33 s, total: 12.5 s\n",
            "Wall time: 42.1 s\n"
          ]
        }
      ],
      "source": [
        "%%time\n",
        "#Random Forest\n",
        "from skopt.space import Real, Integer\n",
        "from skopt.utils import use_named_args\n",
        "\n",
        "reg = RandomForestRegressor()\n",
        "# Define the hyperparameter configuration space\n",
        "space  = [Integer(10, 100, name='n_estimators'),\n",
        "            Integer(5, 50, name='max_depth'),\n",
        "          Integer(1, 13, name='max_features'),\n",
        "          Integer(2, 11, name='min_samples_split'),\n",
        "          Integer(1, 11, name='min_samples_leaf'),\n",
        "         Categorical(['squared_error', 'absolute_error'], name='criterion')\n",
        "         ]\n",
        "# Define the objective function\n",
        "@use_named_args(space)\n",
        "def objective(**params):\n",
        "    reg.set_params(**params)\n",
        "\n",
        "    return -np.mean(cross_val_score(reg, X, y, cv=3, n_jobs=-1,\n",
        "                                    scoring=\"neg_mean_squared_error\"))\n",
        "from skopt import gp_minimize\n",
        "res_gp = gp_minimize(objective, space, n_calls=20, random_state=0)\n",
        "#number of iterations is set to 20, you can increase this number if time permits\n",
        "print(\"MSE:%.4f\" % res_gp.fun)\n",
        "print(res_gp.x)"
      ]
    },
    {
      "cell_type": "code",
      "execution_count": null,
      "metadata": {
        "colab": {
          "base_uri": "https://localhost:8080/"
        },
        "id": "HH6ZWxtGaXJz",
        "outputId": "a23ec399-0f7e-4345-e60e-b2b38bbd3db8"
      },
      "outputs": [
        {
          "output_type": "stream",
          "name": "stdout",
          "text": [
            "MSE:11477.4907\n",
            "[45.52792170269264, 'rbf', 0.0]\n",
            "CPU times: user 8.64 s, sys: 3.42 s, total: 12.1 s\n",
            "Wall time: 15.5 s\n"
          ]
        }
      ],
      "source": [
        "%%time\n",
        "#SVM\n",
        "from skopt.space import Real, Integer\n",
        "from skopt.utils import use_named_args\n",
        "\n",
        "reg = SVR(gamma='scale')\n",
        "space  = [Real(1e-6,50, name='C'),\n",
        "          Categorical(['poly','rbf','sigmoid'], name='kernel'),\n",
        "          Real(0, 1, name='epsilon'),\n",
        "         ]\n",
        "\n",
        "@use_named_args(space)\n",
        "def objective(**params):\n",
        "    reg.set_params(**params)\n",
        "\n",
        "    return -np.mean(cross_val_score(reg, X, y, cv=3, n_jobs=-1,\n",
        "                                    scoring=\"neg_mean_squared_error\"))\n",
        "from skopt import gp_minimize\n",
        "res_gp = gp_minimize(objective, space, n_calls=20, random_state=0)\n",
        "print(\"MSE:%.4f\" % res_gp.fun)\n",
        "print(res_gp.x)"
      ]
    },
    {
      "cell_type": "code",
      "execution_count": null,
      "metadata": {
        "colab": {
          "base_uri": "https://localhost:8080/"
        },
        "id": "5fUGSE8haXJz",
        "outputId": "bb86d131-6f90-4ac6-95d5-b3ba06953b6d"
      },
      "outputs": [
        {
          "output_type": "stream",
          "name": "stdout",
          "text": [
            "MSE:10629.1367\n",
            "[13]\n",
            "CPU times: user 704 ms, sys: 196 ms, total: 900 ms\n",
            "Wall time: 955 ms\n"
          ]
        }
      ],
      "source": [
        "%%time\n",
        "#KNN\n",
        "from skopt.space import Real, Integer\n",
        "from skopt.utils import use_named_args\n",
        "\n",
        "reg = KNeighborsRegressor()\n",
        "space  = [Integer(1, 20, name='n_neighbors')]\n",
        "\n",
        "@use_named_args(space)\n",
        "def objective(**params):\n",
        "    reg.set_params(**params)\n",
        "\n",
        "    return -np.mean(cross_val_score(reg, X, y, cv=3, n_jobs=-1,\n",
        "                                    scoring=\"neg_mean_squared_error\"))\n",
        "from skopt import gp_minimize\n",
        "res_gp = gp_minimize(objective, space, n_calls=10, random_state=0)\n",
        "print(\"MSE:%.4f\" % res_gp.fun)\n",
        "print(res_gp.x)"
      ]
    },
    {
      "cell_type": "markdown",
      "metadata": {
        "id": "k4K8HoMUawqu"
      },
      "source": [
        "# AutoML Libraries\n"
      ]
    },
    {
      "cell_type": "markdown",
      "metadata": {
        "id": "ggAJJnzFlEN5"
      },
      "source": [
        "## MLJAR-supervised"
      ]
    },
    {
      "cell_type": "code",
      "execution_count": null,
      "metadata": {
        "colab": {
          "base_uri": "https://localhost:8080/",
          "height": 425
        },
        "id": "frMi7q7ma28g",
        "outputId": "45844cea-6cd6-4c44-981d-0281a4170989"
      },
      "outputs": [
        {
          "output_type": "stream",
          "name": "stdout",
          "text": [
            "AutoML directory: AutoML_1\n",
            "The task is regression with evaluation metric rmse\n",
            "AutoML will use algorithms: ['Baseline', 'Linear', 'Decision Tree', 'Random Forest', 'Xgboost', 'Neural Network']\n",
            "AutoML will ensemble available models\n",
            "AutoML steps: ['simple_algorithms', 'default_algorithms', 'ensemble']\n",
            "* Step simple_algorithms will try to check up to 3 models\n",
            "1_Baseline rmse 116.63754 trained in 0.68 seconds\n",
            "2_DecisionTree rmse 75.055386 trained in 9.72 seconds\n",
            "3_Linear rmse 68.441713 trained in 3.47 seconds\n",
            "* Step default_algorithms will try to check up to 3 models\n",
            "4_Default_Xgboost rmse 62.740883 trained in 1.55 seconds\n",
            "5_Default_NeuralNetwork rmse 63.478909 trained in 1.64 seconds\n",
            "6_Default_RandomForest rmse 69.074623 trained in 4.98 seconds\n",
            "* Step ensemble will try to check up to 1 model\n",
            "Ensemble rmse 58.936245 trained in 0.41 seconds\n",
            "AutoML fit time: 34.07 seconds\n",
            "AutoML best model: Ensemble\n",
            "CPU times: user 27.7 s, sys: 9.13 s, total: 36.8 s\n",
            "Wall time: 37.9 s\n"
          ]
        },
        {
          "output_type": "execute_result",
          "data": {
            "text/plain": [
              "AutoML()"
            ],
            "text/html": [
              "<style>#sk-container-id-1 {\n",
              "  /* Definition of color scheme common for light and dark mode */\n",
              "  --sklearn-color-text: black;\n",
              "  --sklearn-color-line: gray;\n",
              "  /* Definition of color scheme for unfitted estimators */\n",
              "  --sklearn-color-unfitted-level-0: #fff5e6;\n",
              "  --sklearn-color-unfitted-level-1: #f6e4d2;\n",
              "  --sklearn-color-unfitted-level-2: #ffe0b3;\n",
              "  --sklearn-color-unfitted-level-3: chocolate;\n",
              "  /* Definition of color scheme for fitted estimators */\n",
              "  --sklearn-color-fitted-level-0: #f0f8ff;\n",
              "  --sklearn-color-fitted-level-1: #d4ebff;\n",
              "  --sklearn-color-fitted-level-2: #b3dbfd;\n",
              "  --sklearn-color-fitted-level-3: cornflowerblue;\n",
              "\n",
              "  /* Specific color for light theme */\n",
              "  --sklearn-color-text-on-default-background: var(--sg-text-color, var(--theme-code-foreground, var(--jp-content-font-color1, black)));\n",
              "  --sklearn-color-background: var(--sg-background-color, var(--theme-background, var(--jp-layout-color0, white)));\n",
              "  --sklearn-color-border-box: var(--sg-text-color, var(--theme-code-foreground, var(--jp-content-font-color1, black)));\n",
              "  --sklearn-color-icon: #696969;\n",
              "\n",
              "  @media (prefers-color-scheme: dark) {\n",
              "    /* Redefinition of color scheme for dark theme */\n",
              "    --sklearn-color-text-on-default-background: var(--sg-text-color, var(--theme-code-foreground, var(--jp-content-font-color1, white)));\n",
              "    --sklearn-color-background: var(--sg-background-color, var(--theme-background, var(--jp-layout-color0, #111)));\n",
              "    --sklearn-color-border-box: var(--sg-text-color, var(--theme-code-foreground, var(--jp-content-font-color1, white)));\n",
              "    --sklearn-color-icon: #878787;\n",
              "  }\n",
              "}\n",
              "\n",
              "#sk-container-id-1 {\n",
              "  color: var(--sklearn-color-text);\n",
              "}\n",
              "\n",
              "#sk-container-id-1 pre {\n",
              "  padding: 0;\n",
              "}\n",
              "\n",
              "#sk-container-id-1 input.sk-hidden--visually {\n",
              "  border: 0;\n",
              "  clip: rect(1px 1px 1px 1px);\n",
              "  clip: rect(1px, 1px, 1px, 1px);\n",
              "  height: 1px;\n",
              "  margin: -1px;\n",
              "  overflow: hidden;\n",
              "  padding: 0;\n",
              "  position: absolute;\n",
              "  width: 1px;\n",
              "}\n",
              "\n",
              "#sk-container-id-1 div.sk-dashed-wrapped {\n",
              "  border: 1px dashed var(--sklearn-color-line);\n",
              "  margin: 0 0.4em 0.5em 0.4em;\n",
              "  box-sizing: border-box;\n",
              "  padding-bottom: 0.4em;\n",
              "  background-color: var(--sklearn-color-background);\n",
              "}\n",
              "\n",
              "#sk-container-id-1 div.sk-container {\n",
              "  /* jupyter's `normalize.less` sets `[hidden] { display: none; }`\n",
              "     but bootstrap.min.css set `[hidden] { display: none !important; }`\n",
              "     so we also need the `!important` here to be able to override the\n",
              "     default hidden behavior on the sphinx rendered scikit-learn.org.\n",
              "     See: https://github.com/scikit-learn/scikit-learn/issues/21755 */\n",
              "  display: inline-block !important;\n",
              "  position: relative;\n",
              "}\n",
              "\n",
              "#sk-container-id-1 div.sk-text-repr-fallback {\n",
              "  display: none;\n",
              "}\n",
              "\n",
              "div.sk-parallel-item,\n",
              "div.sk-serial,\n",
              "div.sk-item {\n",
              "  /* draw centered vertical line to link estimators */\n",
              "  background-image: linear-gradient(var(--sklearn-color-text-on-default-background), var(--sklearn-color-text-on-default-background));\n",
              "  background-size: 2px 100%;\n",
              "  background-repeat: no-repeat;\n",
              "  background-position: center center;\n",
              "}\n",
              "\n",
              "/* Parallel-specific style estimator block */\n",
              "\n",
              "#sk-container-id-1 div.sk-parallel-item::after {\n",
              "  content: \"\";\n",
              "  width: 100%;\n",
              "  border-bottom: 2px solid var(--sklearn-color-text-on-default-background);\n",
              "  flex-grow: 1;\n",
              "}\n",
              "\n",
              "#sk-container-id-1 div.sk-parallel {\n",
              "  display: flex;\n",
              "  align-items: stretch;\n",
              "  justify-content: center;\n",
              "  background-color: var(--sklearn-color-background);\n",
              "  position: relative;\n",
              "}\n",
              "\n",
              "#sk-container-id-1 div.sk-parallel-item {\n",
              "  display: flex;\n",
              "  flex-direction: column;\n",
              "}\n",
              "\n",
              "#sk-container-id-1 div.sk-parallel-item:first-child::after {\n",
              "  align-self: flex-end;\n",
              "  width: 50%;\n",
              "}\n",
              "\n",
              "#sk-container-id-1 div.sk-parallel-item:last-child::after {\n",
              "  align-self: flex-start;\n",
              "  width: 50%;\n",
              "}\n",
              "\n",
              "#sk-container-id-1 div.sk-parallel-item:only-child::after {\n",
              "  width: 0;\n",
              "}\n",
              "\n",
              "/* Serial-specific style estimator block */\n",
              "\n",
              "#sk-container-id-1 div.sk-serial {\n",
              "  display: flex;\n",
              "  flex-direction: column;\n",
              "  align-items: center;\n",
              "  background-color: var(--sklearn-color-background);\n",
              "  padding-right: 1em;\n",
              "  padding-left: 1em;\n",
              "}\n",
              "\n",
              "\n",
              "/* Toggleable style: style used for estimator/Pipeline/ColumnTransformer box that is\n",
              "clickable and can be expanded/collapsed.\n",
              "- Pipeline and ColumnTransformer use this feature and define the default style\n",
              "- Estimators will overwrite some part of the style using the `sk-estimator` class\n",
              "*/\n",
              "\n",
              "/* Pipeline and ColumnTransformer style (default) */\n",
              "\n",
              "#sk-container-id-1 div.sk-toggleable {\n",
              "  /* Default theme specific background. It is overwritten whether we have a\n",
              "  specific estimator or a Pipeline/ColumnTransformer */\n",
              "  background-color: var(--sklearn-color-background);\n",
              "}\n",
              "\n",
              "/* Toggleable label */\n",
              "#sk-container-id-1 label.sk-toggleable__label {\n",
              "  cursor: pointer;\n",
              "  display: block;\n",
              "  width: 100%;\n",
              "  margin-bottom: 0;\n",
              "  padding: 0.5em;\n",
              "  box-sizing: border-box;\n",
              "  text-align: center;\n",
              "}\n",
              "\n",
              "#sk-container-id-1 label.sk-toggleable__label-arrow:before {\n",
              "  /* Arrow on the left of the label */\n",
              "  content: \"▸\";\n",
              "  float: left;\n",
              "  margin-right: 0.25em;\n",
              "  color: var(--sklearn-color-icon);\n",
              "}\n",
              "\n",
              "#sk-container-id-1 label.sk-toggleable__label-arrow:hover:before {\n",
              "  color: var(--sklearn-color-text);\n",
              "}\n",
              "\n",
              "/* Toggleable content - dropdown */\n",
              "\n",
              "#sk-container-id-1 div.sk-toggleable__content {\n",
              "  max-height: 0;\n",
              "  max-width: 0;\n",
              "  overflow: hidden;\n",
              "  text-align: left;\n",
              "  /* unfitted */\n",
              "  background-color: var(--sklearn-color-unfitted-level-0);\n",
              "}\n",
              "\n",
              "#sk-container-id-1 div.sk-toggleable__content.fitted {\n",
              "  /* fitted */\n",
              "  background-color: var(--sklearn-color-fitted-level-0);\n",
              "}\n",
              "\n",
              "#sk-container-id-1 div.sk-toggleable__content pre {\n",
              "  margin: 0.2em;\n",
              "  border-radius: 0.25em;\n",
              "  color: var(--sklearn-color-text);\n",
              "  /* unfitted */\n",
              "  background-color: var(--sklearn-color-unfitted-level-0);\n",
              "}\n",
              "\n",
              "#sk-container-id-1 div.sk-toggleable__content.fitted pre {\n",
              "  /* unfitted */\n",
              "  background-color: var(--sklearn-color-fitted-level-0);\n",
              "}\n",
              "\n",
              "#sk-container-id-1 input.sk-toggleable__control:checked~div.sk-toggleable__content {\n",
              "  /* Expand drop-down */\n",
              "  max-height: 200px;\n",
              "  max-width: 100%;\n",
              "  overflow: auto;\n",
              "}\n",
              "\n",
              "#sk-container-id-1 input.sk-toggleable__control:checked~label.sk-toggleable__label-arrow:before {\n",
              "  content: \"▾\";\n",
              "}\n",
              "\n",
              "/* Pipeline/ColumnTransformer-specific style */\n",
              "\n",
              "#sk-container-id-1 div.sk-label input.sk-toggleable__control:checked~label.sk-toggleable__label {\n",
              "  color: var(--sklearn-color-text);\n",
              "  background-color: var(--sklearn-color-unfitted-level-2);\n",
              "}\n",
              "\n",
              "#sk-container-id-1 div.sk-label.fitted input.sk-toggleable__control:checked~label.sk-toggleable__label {\n",
              "  background-color: var(--sklearn-color-fitted-level-2);\n",
              "}\n",
              "\n",
              "/* Estimator-specific style */\n",
              "\n",
              "/* Colorize estimator box */\n",
              "#sk-container-id-1 div.sk-estimator input.sk-toggleable__control:checked~label.sk-toggleable__label {\n",
              "  /* unfitted */\n",
              "  background-color: var(--sklearn-color-unfitted-level-2);\n",
              "}\n",
              "\n",
              "#sk-container-id-1 div.sk-estimator.fitted input.sk-toggleable__control:checked~label.sk-toggleable__label {\n",
              "  /* fitted */\n",
              "  background-color: var(--sklearn-color-fitted-level-2);\n",
              "}\n",
              "\n",
              "#sk-container-id-1 div.sk-label label.sk-toggleable__label,\n",
              "#sk-container-id-1 div.sk-label label {\n",
              "  /* The background is the default theme color */\n",
              "  color: var(--sklearn-color-text-on-default-background);\n",
              "}\n",
              "\n",
              "/* On hover, darken the color of the background */\n",
              "#sk-container-id-1 div.sk-label:hover label.sk-toggleable__label {\n",
              "  color: var(--sklearn-color-text);\n",
              "  background-color: var(--sklearn-color-unfitted-level-2);\n",
              "}\n",
              "\n",
              "/* Label box, darken color on hover, fitted */\n",
              "#sk-container-id-1 div.sk-label.fitted:hover label.sk-toggleable__label.fitted {\n",
              "  color: var(--sklearn-color-text);\n",
              "  background-color: var(--sklearn-color-fitted-level-2);\n",
              "}\n",
              "\n",
              "/* Estimator label */\n",
              "\n",
              "#sk-container-id-1 div.sk-label label {\n",
              "  font-family: monospace;\n",
              "  font-weight: bold;\n",
              "  display: inline-block;\n",
              "  line-height: 1.2em;\n",
              "}\n",
              "\n",
              "#sk-container-id-1 div.sk-label-container {\n",
              "  text-align: center;\n",
              "}\n",
              "\n",
              "/* Estimator-specific */\n",
              "#sk-container-id-1 div.sk-estimator {\n",
              "  font-family: monospace;\n",
              "  border: 1px dotted var(--sklearn-color-border-box);\n",
              "  border-radius: 0.25em;\n",
              "  box-sizing: border-box;\n",
              "  margin-bottom: 0.5em;\n",
              "  /* unfitted */\n",
              "  background-color: var(--sklearn-color-unfitted-level-0);\n",
              "}\n",
              "\n",
              "#sk-container-id-1 div.sk-estimator.fitted {\n",
              "  /* fitted */\n",
              "  background-color: var(--sklearn-color-fitted-level-0);\n",
              "}\n",
              "\n",
              "/* on hover */\n",
              "#sk-container-id-1 div.sk-estimator:hover {\n",
              "  /* unfitted */\n",
              "  background-color: var(--sklearn-color-unfitted-level-2);\n",
              "}\n",
              "\n",
              "#sk-container-id-1 div.sk-estimator.fitted:hover {\n",
              "  /* fitted */\n",
              "  background-color: var(--sklearn-color-fitted-level-2);\n",
              "}\n",
              "\n",
              "/* Specification for estimator info (e.g. \"i\" and \"?\") */\n",
              "\n",
              "/* Common style for \"i\" and \"?\" */\n",
              "\n",
              ".sk-estimator-doc-link,\n",
              "a:link.sk-estimator-doc-link,\n",
              "a:visited.sk-estimator-doc-link {\n",
              "  float: right;\n",
              "  font-size: smaller;\n",
              "  line-height: 1em;\n",
              "  font-family: monospace;\n",
              "  background-color: var(--sklearn-color-background);\n",
              "  border-radius: 1em;\n",
              "  height: 1em;\n",
              "  width: 1em;\n",
              "  text-decoration: none !important;\n",
              "  margin-left: 1ex;\n",
              "  /* unfitted */\n",
              "  border: var(--sklearn-color-unfitted-level-1) 1pt solid;\n",
              "  color: var(--sklearn-color-unfitted-level-1);\n",
              "}\n",
              "\n",
              ".sk-estimator-doc-link.fitted,\n",
              "a:link.sk-estimator-doc-link.fitted,\n",
              "a:visited.sk-estimator-doc-link.fitted {\n",
              "  /* fitted */\n",
              "  border: var(--sklearn-color-fitted-level-1) 1pt solid;\n",
              "  color: var(--sklearn-color-fitted-level-1);\n",
              "}\n",
              "\n",
              "/* On hover */\n",
              "div.sk-estimator:hover .sk-estimator-doc-link:hover,\n",
              ".sk-estimator-doc-link:hover,\n",
              "div.sk-label-container:hover .sk-estimator-doc-link:hover,\n",
              ".sk-estimator-doc-link:hover {\n",
              "  /* unfitted */\n",
              "  background-color: var(--sklearn-color-unfitted-level-3);\n",
              "  color: var(--sklearn-color-background);\n",
              "  text-decoration: none;\n",
              "}\n",
              "\n",
              "div.sk-estimator.fitted:hover .sk-estimator-doc-link.fitted:hover,\n",
              ".sk-estimator-doc-link.fitted:hover,\n",
              "div.sk-label-container:hover .sk-estimator-doc-link.fitted:hover,\n",
              ".sk-estimator-doc-link.fitted:hover {\n",
              "  /* fitted */\n",
              "  background-color: var(--sklearn-color-fitted-level-3);\n",
              "  color: var(--sklearn-color-background);\n",
              "  text-decoration: none;\n",
              "}\n",
              "\n",
              "/* Span, style for the box shown on hovering the info icon */\n",
              ".sk-estimator-doc-link span {\n",
              "  display: none;\n",
              "  z-index: 9999;\n",
              "  position: relative;\n",
              "  font-weight: normal;\n",
              "  right: .2ex;\n",
              "  padding: .5ex;\n",
              "  margin: .5ex;\n",
              "  width: min-content;\n",
              "  min-width: 20ex;\n",
              "  max-width: 50ex;\n",
              "  color: var(--sklearn-color-text);\n",
              "  box-shadow: 2pt 2pt 4pt #999;\n",
              "  /* unfitted */\n",
              "  background: var(--sklearn-color-unfitted-level-0);\n",
              "  border: .5pt solid var(--sklearn-color-unfitted-level-3);\n",
              "}\n",
              "\n",
              ".sk-estimator-doc-link.fitted span {\n",
              "  /* fitted */\n",
              "  background: var(--sklearn-color-fitted-level-0);\n",
              "  border: var(--sklearn-color-fitted-level-3);\n",
              "}\n",
              "\n",
              ".sk-estimator-doc-link:hover span {\n",
              "  display: block;\n",
              "}\n",
              "\n",
              "/* \"?\"-specific style due to the `<a>` HTML tag */\n",
              "\n",
              "#sk-container-id-1 a.estimator_doc_link {\n",
              "  float: right;\n",
              "  font-size: 1rem;\n",
              "  line-height: 1em;\n",
              "  font-family: monospace;\n",
              "  background-color: var(--sklearn-color-background);\n",
              "  border-radius: 1rem;\n",
              "  height: 1rem;\n",
              "  width: 1rem;\n",
              "  text-decoration: none;\n",
              "  /* unfitted */\n",
              "  color: var(--sklearn-color-unfitted-level-1);\n",
              "  border: var(--sklearn-color-unfitted-level-1) 1pt solid;\n",
              "}\n",
              "\n",
              "#sk-container-id-1 a.estimator_doc_link.fitted {\n",
              "  /* fitted */\n",
              "  border: var(--sklearn-color-fitted-level-1) 1pt solid;\n",
              "  color: var(--sklearn-color-fitted-level-1);\n",
              "}\n",
              "\n",
              "/* On hover */\n",
              "#sk-container-id-1 a.estimator_doc_link:hover {\n",
              "  /* unfitted */\n",
              "  background-color: var(--sklearn-color-unfitted-level-3);\n",
              "  color: var(--sklearn-color-background);\n",
              "  text-decoration: none;\n",
              "}\n",
              "\n",
              "#sk-container-id-1 a.estimator_doc_link.fitted:hover {\n",
              "  /* fitted */\n",
              "  background-color: var(--sklearn-color-fitted-level-3);\n",
              "}\n",
              "</style><div id=\"sk-container-id-1\" class=\"sk-top-container\"><div class=\"sk-text-repr-fallback\"><pre>AutoML()</pre><b>In a Jupyter environment, please rerun this cell to show the HTML representation or trust the notebook. <br />On GitHub, the HTML representation is unable to render, please try loading this page with nbviewer.org.</b></div><div class=\"sk-container\" hidden><div class=\"sk-item\"><div class=\"sk-estimator fitted sk-toggleable\"><input class=\"sk-toggleable__control sk-hidden--visually\" id=\"sk-estimator-id-1\" type=\"checkbox\" checked><label for=\"sk-estimator-id-1\" class=\"sk-toggleable__label fitted sk-toggleable__label-arrow fitted\">&nbsp;AutoML<span class=\"sk-estimator-doc-link fitted\">i<span>Fitted</span></span></label><div class=\"sk-toggleable__content fitted\"><pre>AutoML()</pre></div> </div></div></div></div>"
            ]
          },
          "metadata": {},
          "execution_count": 22
        }
      ],
      "source": [
        "%%time\n",
        "from supervised.automl import AutoML\n",
        "automl = AutoML()\n",
        "automl.fit(X, y,cv=3)"
      ]
    },
    {
      "cell_type": "markdown",
      "metadata": {
        "id": "fOu6ezsodDb8"
      },
      "source": [
        "## pycaret"
      ]
    },
    {
      "cell_type": "code",
      "execution_count": null,
      "metadata": {
        "colab": {
          "base_uri": "https://localhost:8080/",
          "height": 663
        },
        "id": "VJmies3ydCgP",
        "outputId": "0a24bfde-4817-49f8-f246-729959672f11"
      },
      "outputs": [
        {
          "output_type": "display_data",
          "data": {
            "text/plain": [
              "<pandas.io.formats.style.Styler at 0x7a9d42877dc0>"
            ],
            "text/html": [
              "<style type=\"text/css\">\n",
              "#T_16c17_row8_col1 {\n",
              "  background-color: lightgreen;\n",
              "}\n",
              "</style>\n",
              "<table id=\"T_16c17\" class=\"dataframe\">\n",
              "  <thead>\n",
              "    <tr>\n",
              "      <th class=\"blank level0\" >&nbsp;</th>\n",
              "      <th id=\"T_16c17_level0_col0\" class=\"col_heading level0 col0\" >Description</th>\n",
              "      <th id=\"T_16c17_level0_col1\" class=\"col_heading level0 col1\" >Value</th>\n",
              "    </tr>\n",
              "  </thead>\n",
              "  <tbody>\n",
              "    <tr>\n",
              "      <th id=\"T_16c17_level0_row0\" class=\"row_heading level0 row0\" >0</th>\n",
              "      <td id=\"T_16c17_row0_col0\" class=\"data row0 col0\" >Session id</td>\n",
              "      <td id=\"T_16c17_row0_col1\" class=\"data row0 col1\" >663</td>\n",
              "    </tr>\n",
              "    <tr>\n",
              "      <th id=\"T_16c17_level0_row1\" class=\"row_heading level0 row1\" >1</th>\n",
              "      <td id=\"T_16c17_row1_col0\" class=\"data row1 col0\" >Target</td>\n",
              "      <td id=\"T_16c17_row1_col1\" class=\"data row1 col1\" >median_house_value</td>\n",
              "    </tr>\n",
              "    <tr>\n",
              "      <th id=\"T_16c17_level0_row2\" class=\"row_heading level0 row2\" >2</th>\n",
              "      <td id=\"T_16c17_row2_col0\" class=\"data row2 col0\" >Target type</td>\n",
              "      <td id=\"T_16c17_row2_col1\" class=\"data row2 col1\" >Regression</td>\n",
              "    </tr>\n",
              "    <tr>\n",
              "      <th id=\"T_16c17_level0_row3\" class=\"row_heading level0 row3\" >3</th>\n",
              "      <td id=\"T_16c17_row3_col0\" class=\"data row3 col0\" >Original data shape</td>\n",
              "      <td id=\"T_16c17_row3_col1\" class=\"data row3 col1\" >(1000, 13)</td>\n",
              "    </tr>\n",
              "    <tr>\n",
              "      <th id=\"T_16c17_level0_row4\" class=\"row_heading level0 row4\" >4</th>\n",
              "      <td id=\"T_16c17_row4_col0\" class=\"data row4 col0\" >Transformed data shape</td>\n",
              "      <td id=\"T_16c17_row4_col1\" class=\"data row4 col1\" >(1000, 13)</td>\n",
              "    </tr>\n",
              "    <tr>\n",
              "      <th id=\"T_16c17_level0_row5\" class=\"row_heading level0 row5\" >5</th>\n",
              "      <td id=\"T_16c17_row5_col0\" class=\"data row5 col0\" >Transformed train set shape</td>\n",
              "      <td id=\"T_16c17_row5_col1\" class=\"data row5 col1\" >(700, 13)</td>\n",
              "    </tr>\n",
              "    <tr>\n",
              "      <th id=\"T_16c17_level0_row6\" class=\"row_heading level0 row6\" >6</th>\n",
              "      <td id=\"T_16c17_row6_col0\" class=\"data row6 col0\" >Transformed test set shape</td>\n",
              "      <td id=\"T_16c17_row6_col1\" class=\"data row6 col1\" >(300, 13)</td>\n",
              "    </tr>\n",
              "    <tr>\n",
              "      <th id=\"T_16c17_level0_row7\" class=\"row_heading level0 row7\" >7</th>\n",
              "      <td id=\"T_16c17_row7_col0\" class=\"data row7 col0\" >Numeric features</td>\n",
              "      <td id=\"T_16c17_row7_col1\" class=\"data row7 col1\" >12</td>\n",
              "    </tr>\n",
              "    <tr>\n",
              "      <th id=\"T_16c17_level0_row8\" class=\"row_heading level0 row8\" >8</th>\n",
              "      <td id=\"T_16c17_row8_col0\" class=\"data row8 col0\" >Preprocess</td>\n",
              "      <td id=\"T_16c17_row8_col1\" class=\"data row8 col1\" >True</td>\n",
              "    </tr>\n",
              "    <tr>\n",
              "      <th id=\"T_16c17_level0_row9\" class=\"row_heading level0 row9\" >9</th>\n",
              "      <td id=\"T_16c17_row9_col0\" class=\"data row9 col0\" >Imputation type</td>\n",
              "      <td id=\"T_16c17_row9_col1\" class=\"data row9 col1\" >simple</td>\n",
              "    </tr>\n",
              "    <tr>\n",
              "      <th id=\"T_16c17_level0_row10\" class=\"row_heading level0 row10\" >10</th>\n",
              "      <td id=\"T_16c17_row10_col0\" class=\"data row10 col0\" >Numeric imputation</td>\n",
              "      <td id=\"T_16c17_row10_col1\" class=\"data row10 col1\" >mean</td>\n",
              "    </tr>\n",
              "    <tr>\n",
              "      <th id=\"T_16c17_level0_row11\" class=\"row_heading level0 row11\" >11</th>\n",
              "      <td id=\"T_16c17_row11_col0\" class=\"data row11 col0\" >Categorical imputation</td>\n",
              "      <td id=\"T_16c17_row11_col1\" class=\"data row11 col1\" >mode</td>\n",
              "    </tr>\n",
              "    <tr>\n",
              "      <th id=\"T_16c17_level0_row12\" class=\"row_heading level0 row12\" >12</th>\n",
              "      <td id=\"T_16c17_row12_col0\" class=\"data row12 col0\" >Fold Generator</td>\n",
              "      <td id=\"T_16c17_row12_col1\" class=\"data row12 col1\" >KFold</td>\n",
              "    </tr>\n",
              "    <tr>\n",
              "      <th id=\"T_16c17_level0_row13\" class=\"row_heading level0 row13\" >13</th>\n",
              "      <td id=\"T_16c17_row13_col0\" class=\"data row13 col0\" >Fold Number</td>\n",
              "      <td id=\"T_16c17_row13_col1\" class=\"data row13 col1\" >10</td>\n",
              "    </tr>\n",
              "    <tr>\n",
              "      <th id=\"T_16c17_level0_row14\" class=\"row_heading level0 row14\" >14</th>\n",
              "      <td id=\"T_16c17_row14_col0\" class=\"data row14 col0\" >CPU Jobs</td>\n",
              "      <td id=\"T_16c17_row14_col1\" class=\"data row14 col1\" >-1</td>\n",
              "    </tr>\n",
              "    <tr>\n",
              "      <th id=\"T_16c17_level0_row15\" class=\"row_heading level0 row15\" >15</th>\n",
              "      <td id=\"T_16c17_row15_col0\" class=\"data row15 col0\" >Use GPU</td>\n",
              "      <td id=\"T_16c17_row15_col1\" class=\"data row15 col1\" >False</td>\n",
              "    </tr>\n",
              "    <tr>\n",
              "      <th id=\"T_16c17_level0_row16\" class=\"row_heading level0 row16\" >16</th>\n",
              "      <td id=\"T_16c17_row16_col0\" class=\"data row16 col0\" >Log Experiment</td>\n",
              "      <td id=\"T_16c17_row16_col1\" class=\"data row16 col1\" >False</td>\n",
              "    </tr>\n",
              "    <tr>\n",
              "      <th id=\"T_16c17_level0_row17\" class=\"row_heading level0 row17\" >17</th>\n",
              "      <td id=\"T_16c17_row17_col0\" class=\"data row17 col0\" >Experiment Name</td>\n",
              "      <td id=\"T_16c17_row17_col1\" class=\"data row17 col1\" >reg-default-name</td>\n",
              "    </tr>\n",
              "    <tr>\n",
              "      <th id=\"T_16c17_level0_row18\" class=\"row_heading level0 row18\" >18</th>\n",
              "      <td id=\"T_16c17_row18_col0\" class=\"data row18 col0\" >USI</td>\n",
              "      <td id=\"T_16c17_row18_col1\" class=\"data row18 col1\" >21d2</td>\n",
              "    </tr>\n",
              "  </tbody>\n",
              "</table>\n"
            ]
          },
          "metadata": {}
        },
        {
          "output_type": "execute_result",
          "data": {
            "text/plain": [
              "<pycaret.regression.oop.RegressionExperiment at 0x7a9d8740f0a0>"
            ]
          },
          "metadata": {},
          "execution_count": 23
        }
      ],
      "source": [
        "from pycaret.regression import RegressionExperiment\n",
        "s = RegressionExperiment()\n",
        "s.setup(X, target = y)"
      ]
    },
    {
      "cell_type": "code",
      "execution_count": null,
      "metadata": {
        "colab": {
          "base_uri": "https://localhost:8080/",
          "height": 645,
          "referenced_widgets": [
            "8ee3b99ef5c44d74ba3d3c5ee9d713f3",
            "8744941db6a04598862e4ec02d444074",
            "8696b712e22d4a4cbee3036e8c087269",
            "5977e26a02034906b049cde5c9376511",
            "ade123a71d4548818d42d040514ed2d5",
            "816821e7a94a4bc29223fb41e9084417",
            "89250a737f774490908b157c6834fcda",
            "806138d105e64c5fa2d2fc601ec00185",
            "75f60eb75bce4ae985b74148e4ee2dca",
            "d53d0a46bec74406831339909e965b39",
            "872c2818cfdd408e8927ab826f2e105d"
          ]
        },
        "id": "fHbmTn1odvwH",
        "outputId": "79751f81-de0e-4a35-f6fc-52f62152e24f"
      },
      "outputs": [
        {
          "output_type": "display_data",
          "data": {
            "text/plain": [
              "<IPython.core.display.HTML object>"
            ],
            "text/html": []
          },
          "metadata": {}
        },
        {
          "output_type": "display_data",
          "data": {
            "text/plain": [
              "<pandas.io.formats.style.Styler at 0x7a9d42614160>"
            ],
            "text/html": [
              "<style type=\"text/css\">\n",
              "#T_fc5df th {\n",
              "  text-align: left;\n",
              "}\n",
              "#T_fc5df_row0_col0, #T_fc5df_row1_col0, #T_fc5df_row1_col1, #T_fc5df_row1_col2, #T_fc5df_row1_col3, #T_fc5df_row1_col4, #T_fc5df_row1_col5, #T_fc5df_row1_col6, #T_fc5df_row2_col0, #T_fc5df_row2_col1, #T_fc5df_row2_col2, #T_fc5df_row2_col3, #T_fc5df_row2_col4, #T_fc5df_row2_col5, #T_fc5df_row2_col6, #T_fc5df_row3_col0, #T_fc5df_row3_col1, #T_fc5df_row3_col2, #T_fc5df_row3_col3, #T_fc5df_row3_col4, #T_fc5df_row3_col5, #T_fc5df_row3_col6, #T_fc5df_row4_col0, #T_fc5df_row4_col1, #T_fc5df_row4_col2, #T_fc5df_row4_col3, #T_fc5df_row4_col4, #T_fc5df_row4_col5, #T_fc5df_row4_col6, #T_fc5df_row5_col0, #T_fc5df_row5_col1, #T_fc5df_row5_col2, #T_fc5df_row5_col3, #T_fc5df_row5_col4, #T_fc5df_row5_col5, #T_fc5df_row5_col6, #T_fc5df_row6_col0, #T_fc5df_row6_col1, #T_fc5df_row6_col2, #T_fc5df_row6_col3, #T_fc5df_row6_col4, #T_fc5df_row6_col5, #T_fc5df_row6_col6, #T_fc5df_row7_col0, #T_fc5df_row7_col1, #T_fc5df_row7_col2, #T_fc5df_row7_col3, #T_fc5df_row7_col4, #T_fc5df_row7_col5, #T_fc5df_row7_col6, #T_fc5df_row8_col0, #T_fc5df_row8_col1, #T_fc5df_row8_col2, #T_fc5df_row8_col3, #T_fc5df_row8_col4, #T_fc5df_row8_col5, #T_fc5df_row8_col6, #T_fc5df_row9_col0, #T_fc5df_row9_col1, #T_fc5df_row9_col2, #T_fc5df_row9_col3, #T_fc5df_row9_col4, #T_fc5df_row9_col5, #T_fc5df_row9_col6, #T_fc5df_row10_col0, #T_fc5df_row10_col1, #T_fc5df_row10_col2, #T_fc5df_row10_col3, #T_fc5df_row10_col4, #T_fc5df_row10_col5, #T_fc5df_row10_col6, #T_fc5df_row11_col0, #T_fc5df_row11_col1, #T_fc5df_row11_col2, #T_fc5df_row11_col3, #T_fc5df_row11_col4, #T_fc5df_row11_col5, #T_fc5df_row11_col6, #T_fc5df_row12_col0, #T_fc5df_row12_col1, #T_fc5df_row12_col2, #T_fc5df_row12_col3, #T_fc5df_row12_col4, #T_fc5df_row12_col5, #T_fc5df_row12_col6, #T_fc5df_row13_col0, #T_fc5df_row13_col1, #T_fc5df_row13_col2, #T_fc5df_row13_col3, #T_fc5df_row13_col4, #T_fc5df_row13_col5, #T_fc5df_row13_col6, #T_fc5df_row14_col0, #T_fc5df_row14_col1, #T_fc5df_row14_col2, #T_fc5df_row14_col3, #T_fc5df_row14_col4, #T_fc5df_row14_col5, #T_fc5df_row14_col6, #T_fc5df_row15_col0, #T_fc5df_row15_col1, #T_fc5df_row15_col2, #T_fc5df_row15_col3, #T_fc5df_row15_col4, #T_fc5df_row15_col5, #T_fc5df_row15_col6, #T_fc5df_row16_col0, #T_fc5df_row16_col1, #T_fc5df_row16_col2, #T_fc5df_row16_col3, #T_fc5df_row16_col4, #T_fc5df_row16_col5, #T_fc5df_row16_col6, #T_fc5df_row17_col0, #T_fc5df_row17_col1, #T_fc5df_row17_col2, #T_fc5df_row17_col3, #T_fc5df_row17_col4, #T_fc5df_row17_col5, #T_fc5df_row17_col6, #T_fc5df_row18_col0, #T_fc5df_row18_col1, #T_fc5df_row18_col2, #T_fc5df_row18_col3, #T_fc5df_row18_col4, #T_fc5df_row18_col5, #T_fc5df_row18_col6 {\n",
              "  text-align: left;\n",
              "}\n",
              "#T_fc5df_row0_col1, #T_fc5df_row0_col2, #T_fc5df_row0_col3, #T_fc5df_row0_col4, #T_fc5df_row0_col5, #T_fc5df_row0_col6 {\n",
              "  text-align: left;\n",
              "  background-color: yellow;\n",
              "}\n",
              "#T_fc5df_row0_col7, #T_fc5df_row1_col7, #T_fc5df_row2_col7, #T_fc5df_row3_col7, #T_fc5df_row4_col7, #T_fc5df_row5_col7, #T_fc5df_row6_col7, #T_fc5df_row8_col7, #T_fc5df_row9_col7, #T_fc5df_row10_col7, #T_fc5df_row11_col7, #T_fc5df_row12_col7, #T_fc5df_row13_col7, #T_fc5df_row14_col7, #T_fc5df_row15_col7, #T_fc5df_row16_col7, #T_fc5df_row17_col7, #T_fc5df_row18_col7 {\n",
              "  text-align: left;\n",
              "  background-color: lightgrey;\n",
              "}\n",
              "#T_fc5df_row7_col7 {\n",
              "  text-align: left;\n",
              "  background-color: yellow;\n",
              "  background-color: lightgrey;\n",
              "}\n",
              "</style>\n",
              "<table id=\"T_fc5df\" class=\"dataframe\">\n",
              "  <thead>\n",
              "    <tr>\n",
              "      <th class=\"blank level0\" >&nbsp;</th>\n",
              "      <th id=\"T_fc5df_level0_col0\" class=\"col_heading level0 col0\" >Model</th>\n",
              "      <th id=\"T_fc5df_level0_col1\" class=\"col_heading level0 col1\" >MAE</th>\n",
              "      <th id=\"T_fc5df_level0_col2\" class=\"col_heading level0 col2\" >MSE</th>\n",
              "      <th id=\"T_fc5df_level0_col3\" class=\"col_heading level0 col3\" >RMSE</th>\n",
              "      <th id=\"T_fc5df_level0_col4\" class=\"col_heading level0 col4\" >R2</th>\n",
              "      <th id=\"T_fc5df_level0_col5\" class=\"col_heading level0 col5\" >RMSLE</th>\n",
              "      <th id=\"T_fc5df_level0_col6\" class=\"col_heading level0 col6\" >MAPE</th>\n",
              "      <th id=\"T_fc5df_level0_col7\" class=\"col_heading level0 col7\" >TT (Sec)</th>\n",
              "    </tr>\n",
              "  </thead>\n",
              "  <tbody>\n",
              "    <tr>\n",
              "      <th id=\"T_fc5df_level0_row0\" class=\"row_heading level0 row0\" >catboost</th>\n",
              "      <td id=\"T_fc5df_row0_col0\" class=\"data row0 col0\" >CatBoost Regressor</td>\n",
              "      <td id=\"T_fc5df_row0_col1\" class=\"data row0 col1\" >38.9809</td>\n",
              "      <td id=\"T_fc5df_row0_col2\" class=\"data row0 col2\" >3280.1859</td>\n",
              "      <td id=\"T_fc5df_row0_col3\" class=\"data row0 col3\" >56.6750</td>\n",
              "      <td id=\"T_fc5df_row0_col4\" class=\"data row0 col4\" >0.7542</td>\n",
              "      <td id=\"T_fc5df_row0_col5\" class=\"data row0 col5\" >0.2787</td>\n",
              "      <td id=\"T_fc5df_row0_col6\" class=\"data row0 col6\" >0.2179</td>\n",
              "      <td id=\"T_fc5df_row0_col7\" class=\"data row0 col7\" >3.3950</td>\n",
              "    </tr>\n",
              "    <tr>\n",
              "      <th id=\"T_fc5df_level0_row1\" class=\"row_heading level0 row1\" >lightgbm</th>\n",
              "      <td id=\"T_fc5df_row1_col0\" class=\"data row1 col0\" >Light Gradient Boosting Machine</td>\n",
              "      <td id=\"T_fc5df_row1_col1\" class=\"data row1 col1\" >41.5585</td>\n",
              "      <td id=\"T_fc5df_row1_col2\" class=\"data row1 col2\" >3641.8133</td>\n",
              "      <td id=\"T_fc5df_row1_col3\" class=\"data row1 col3\" >59.8856</td>\n",
              "      <td id=\"T_fc5df_row1_col4\" class=\"data row1 col4\" >0.7249</td>\n",
              "      <td id=\"T_fc5df_row1_col5\" class=\"data row1 col5\" >0.2937</td>\n",
              "      <td id=\"T_fc5df_row1_col6\" class=\"data row1 col6\" >0.2316</td>\n",
              "      <td id=\"T_fc5df_row1_col7\" class=\"data row1 col7\" >0.3390</td>\n",
              "    </tr>\n",
              "    <tr>\n",
              "      <th id=\"T_fc5df_level0_row2\" class=\"row_heading level0 row2\" >gbr</th>\n",
              "      <td id=\"T_fc5df_row2_col0\" class=\"data row2 col0\" >Gradient Boosting Regressor</td>\n",
              "      <td id=\"T_fc5df_row2_col1\" class=\"data row2 col1\" >42.6965</td>\n",
              "      <td id=\"T_fc5df_row2_col2\" class=\"data row2 col2\" >3740.0787</td>\n",
              "      <td id=\"T_fc5df_row2_col3\" class=\"data row2 col3\" >60.7272</td>\n",
              "      <td id=\"T_fc5df_row2_col4\" class=\"data row2 col4\" >0.7190</td>\n",
              "      <td id=\"T_fc5df_row2_col5\" class=\"data row2 col5\" >0.2951</td>\n",
              "      <td id=\"T_fc5df_row2_col6\" class=\"data row2 col6\" >0.2370</td>\n",
              "      <td id=\"T_fc5df_row2_col7\" class=\"data row2 col7\" >0.3630</td>\n",
              "    </tr>\n",
              "    <tr>\n",
              "      <th id=\"T_fc5df_level0_row3\" class=\"row_heading level0 row3\" >rf</th>\n",
              "      <td id=\"T_fc5df_row3_col0\" class=\"data row3 col0\" >Random Forest Regressor</td>\n",
              "      <td id=\"T_fc5df_row3_col1\" class=\"data row3 col1\" >44.2497</td>\n",
              "      <td id=\"T_fc5df_row3_col2\" class=\"data row3 col2\" >4020.7643</td>\n",
              "      <td id=\"T_fc5df_row3_col3\" class=\"data row3 col3\" >62.9112</td>\n",
              "      <td id=\"T_fc5df_row3_col4\" class=\"data row3 col4\" >0.6982</td>\n",
              "      <td id=\"T_fc5df_row3_col5\" class=\"data row3 col5\" >0.2990</td>\n",
              "      <td id=\"T_fc5df_row3_col6\" class=\"data row3 col6\" >0.2466</td>\n",
              "      <td id=\"T_fc5df_row3_col7\" class=\"data row3 col7\" >0.4890</td>\n",
              "    </tr>\n",
              "    <tr>\n",
              "      <th id=\"T_fc5df_level0_row4\" class=\"row_heading level0 row4\" >et</th>\n",
              "      <td id=\"T_fc5df_row4_col0\" class=\"data row4 col0\" >Extra Trees Regressor</td>\n",
              "      <td id=\"T_fc5df_row4_col1\" class=\"data row4 col1\" >44.7150</td>\n",
              "      <td id=\"T_fc5df_row4_col2\" class=\"data row4 col2\" >4143.7575</td>\n",
              "      <td id=\"T_fc5df_row4_col3\" class=\"data row4 col3\" >64.0492</td>\n",
              "      <td id=\"T_fc5df_row4_col4\" class=\"data row4 col4\" >0.6894</td>\n",
              "      <td id=\"T_fc5df_row4_col5\" class=\"data row4 col5\" >0.3014</td>\n",
              "      <td id=\"T_fc5df_row4_col6\" class=\"data row4 col6\" >0.2473</td>\n",
              "      <td id=\"T_fc5df_row4_col7\" class=\"data row4 col7\" >0.2820</td>\n",
              "    </tr>\n",
              "    <tr>\n",
              "      <th id=\"T_fc5df_level0_row5\" class=\"row_heading level0 row5\" >br</th>\n",
              "      <td id=\"T_fc5df_row5_col0\" class=\"data row5 col0\" >Bayesian Ridge</td>\n",
              "      <td id=\"T_fc5df_row5_col1\" class=\"data row5 col1\" >49.4986</td>\n",
              "      <td id=\"T_fc5df_row5_col2\" class=\"data row5 col2\" >4626.0702</td>\n",
              "      <td id=\"T_fc5df_row5_col3\" class=\"data row5 col3\" >67.6807</td>\n",
              "      <td id=\"T_fc5df_row5_col4\" class=\"data row5 col4\" >0.6510</td>\n",
              "      <td id=\"T_fc5df_row5_col5\" class=\"data row5 col5\" >0.3818</td>\n",
              "      <td id=\"T_fc5df_row5_col6\" class=\"data row5 col6\" >0.2890</td>\n",
              "      <td id=\"T_fc5df_row5_col7\" class=\"data row5 col7\" >0.0390</td>\n",
              "    </tr>\n",
              "    <tr>\n",
              "      <th id=\"T_fc5df_level0_row6\" class=\"row_heading level0 row6\" >lr</th>\n",
              "      <td id=\"T_fc5df_row6_col0\" class=\"data row6 col0\" >Linear Regression</td>\n",
              "      <td id=\"T_fc5df_row6_col1\" class=\"data row6 col1\" >49.4670</td>\n",
              "      <td id=\"T_fc5df_row6_col2\" class=\"data row6 col2\" >4631.5667</td>\n",
              "      <td id=\"T_fc5df_row6_col3\" class=\"data row6 col3\" >67.7170</td>\n",
              "      <td id=\"T_fc5df_row6_col4\" class=\"data row6 col4\" >0.6507</td>\n",
              "      <td id=\"T_fc5df_row6_col5\" class=\"data row6 col5\" >0.3739</td>\n",
              "      <td id=\"T_fc5df_row6_col6\" class=\"data row6 col6\" >0.2881</td>\n",
              "      <td id=\"T_fc5df_row6_col7\" class=\"data row6 col7\" >0.1090</td>\n",
              "    </tr>\n",
              "    <tr>\n",
              "      <th id=\"T_fc5df_level0_row7\" class=\"row_heading level0 row7\" >ridge</th>\n",
              "      <td id=\"T_fc5df_row7_col0\" class=\"data row7 col0\" >Ridge Regression</td>\n",
              "      <td id=\"T_fc5df_row7_col1\" class=\"data row7 col1\" >49.4670</td>\n",
              "      <td id=\"T_fc5df_row7_col2\" class=\"data row7 col2\" >4630.7291</td>\n",
              "      <td id=\"T_fc5df_row7_col3\" class=\"data row7 col3\" >67.7112</td>\n",
              "      <td id=\"T_fc5df_row7_col4\" class=\"data row7 col4\" >0.6507</td>\n",
              "      <td id=\"T_fc5df_row7_col5\" class=\"data row7 col5\" >0.3747</td>\n",
              "      <td id=\"T_fc5df_row7_col6\" class=\"data row7 col6\" >0.2882</td>\n",
              "      <td id=\"T_fc5df_row7_col7\" class=\"data row7 col7\" >0.0300</td>\n",
              "    </tr>\n",
              "    <tr>\n",
              "      <th id=\"T_fc5df_level0_row8\" class=\"row_heading level0 row8\" >llar</th>\n",
              "      <td id=\"T_fc5df_row8_col0\" class=\"data row8 col0\" >Lasso Least Angle Regression</td>\n",
              "      <td id=\"T_fc5df_row8_col1\" class=\"data row8 col1\" >49.6149</td>\n",
              "      <td id=\"T_fc5df_row8_col2\" class=\"data row8 col2\" >4632.2128</td>\n",
              "      <td id=\"T_fc5df_row8_col3\" class=\"data row8 col3\" >67.7266</td>\n",
              "      <td id=\"T_fc5df_row8_col4\" class=\"data row8 col4\" >0.6503</td>\n",
              "      <td id=\"T_fc5df_row8_col5\" class=\"data row8 col5\" >0.3773</td>\n",
              "      <td id=\"T_fc5df_row8_col6\" class=\"data row8 col6\" >0.2900</td>\n",
              "      <td id=\"T_fc5df_row8_col7\" class=\"data row8 col7\" >0.0340</td>\n",
              "    </tr>\n",
              "    <tr>\n",
              "      <th id=\"T_fc5df_level0_row9\" class=\"row_heading level0 row9\" >lasso</th>\n",
              "      <td id=\"T_fc5df_row9_col0\" class=\"data row9 col0\" >Lasso Regression</td>\n",
              "      <td id=\"T_fc5df_row9_col1\" class=\"data row9 col1\" >49.6122</td>\n",
              "      <td id=\"T_fc5df_row9_col2\" class=\"data row9 col2\" >4631.9729</td>\n",
              "      <td id=\"T_fc5df_row9_col3\" class=\"data row9 col3\" >67.7247</td>\n",
              "      <td id=\"T_fc5df_row9_col4\" class=\"data row9 col4\" >0.6503</td>\n",
              "      <td id=\"T_fc5df_row9_col5\" class=\"data row9 col5\" >0.3772</td>\n",
              "      <td id=\"T_fc5df_row9_col6\" class=\"data row9 col6\" >0.2899</td>\n",
              "      <td id=\"T_fc5df_row9_col7\" class=\"data row9 col7\" >0.0350</td>\n",
              "    </tr>\n",
              "    <tr>\n",
              "      <th id=\"T_fc5df_level0_row10\" class=\"row_heading level0 row10\" >lar</th>\n",
              "      <td id=\"T_fc5df_row10_col0\" class=\"data row10 col0\" >Least Angle Regression</td>\n",
              "      <td id=\"T_fc5df_row10_col1\" class=\"data row10 col1\" >49.7095</td>\n",
              "      <td id=\"T_fc5df_row10_col2\" class=\"data row10 col2\" >4686.0416</td>\n",
              "      <td id=\"T_fc5df_row10_col3\" class=\"data row10 col3\" >68.0974</td>\n",
              "      <td id=\"T_fc5df_row10_col4\" class=\"data row10 col4\" >0.6464</td>\n",
              "      <td id=\"T_fc5df_row10_col5\" class=\"data row10 col5\" >0.3687</td>\n",
              "      <td id=\"T_fc5df_row10_col6\" class=\"data row10 col6\" >0.2896</td>\n",
              "      <td id=\"T_fc5df_row10_col7\" class=\"data row10 col7\" >0.0340</td>\n",
              "    </tr>\n",
              "    <tr>\n",
              "      <th id=\"T_fc5df_level0_row11\" class=\"row_heading level0 row11\" >en</th>\n",
              "      <td id=\"T_fc5df_row11_col0\" class=\"data row11 col0\" >Elastic Net</td>\n",
              "      <td id=\"T_fc5df_row11_col1\" class=\"data row11 col1\" >53.1396</td>\n",
              "      <td id=\"T_fc5df_row11_col2\" class=\"data row11 col2\" >4999.9498</td>\n",
              "      <td id=\"T_fc5df_row11_col3\" class=\"data row11 col3\" >70.4120</td>\n",
              "      <td id=\"T_fc5df_row11_col4\" class=\"data row11 col4\" >0.6216</td>\n",
              "      <td id=\"T_fc5df_row11_col5\" class=\"data row11 col5\" >0.3703</td>\n",
              "      <td id=\"T_fc5df_row11_col6\" class=\"data row11 col6\" >0.3254</td>\n",
              "      <td id=\"T_fc5df_row11_col7\" class=\"data row11 col7\" >0.0310</td>\n",
              "    </tr>\n",
              "    <tr>\n",
              "      <th id=\"T_fc5df_level0_row12\" class=\"row_heading level0 row12\" >ada</th>\n",
              "      <td id=\"T_fc5df_row12_col0\" class=\"data row12 col0\" >AdaBoost Regressor</td>\n",
              "      <td id=\"T_fc5df_row12_col1\" class=\"data row12 col1\" >65.3182</td>\n",
              "      <td id=\"T_fc5df_row12_col2\" class=\"data row12 col2\" >6286.2067</td>\n",
              "      <td id=\"T_fc5df_row12_col3\" class=\"data row12 col3\" >79.0453</td>\n",
              "      <td id=\"T_fc5df_row12_col4\" class=\"data row12 col4\" >0.5229</td>\n",
              "      <td id=\"T_fc5df_row12_col5\" class=\"data row12 col5\" >0.4172</td>\n",
              "      <td id=\"T_fc5df_row12_col6\" class=\"data row12 col6\" >0.4315</td>\n",
              "      <td id=\"T_fc5df_row12_col7\" class=\"data row12 col7\" >0.2450</td>\n",
              "    </tr>\n",
              "    <tr>\n",
              "      <th id=\"T_fc5df_level0_row13\" class=\"row_heading level0 row13\" >huber</th>\n",
              "      <td id=\"T_fc5df_row13_col0\" class=\"data row13 col0\" >Huber Regressor</td>\n",
              "      <td id=\"T_fc5df_row13_col1\" class=\"data row13 col1\" >58.0156</td>\n",
              "      <td id=\"T_fc5df_row13_col2\" class=\"data row13 col2\" >6419.0132</td>\n",
              "      <td id=\"T_fc5df_row13_col3\" class=\"data row13 col3\" >79.2573</td>\n",
              "      <td id=\"T_fc5df_row13_col4\" class=\"data row13 col4\" >0.5046</td>\n",
              "      <td id=\"T_fc5df_row13_col5\" class=\"data row13 col5\" >0.3984</td>\n",
              "      <td id=\"T_fc5df_row13_col6\" class=\"data row13 col6\" >0.3321</td>\n",
              "      <td id=\"T_fc5df_row13_col7\" class=\"data row13 col7\" >0.1130</td>\n",
              "    </tr>\n",
              "    <tr>\n",
              "      <th id=\"T_fc5df_level0_row14\" class=\"row_heading level0 row14\" >dt</th>\n",
              "      <td id=\"T_fc5df_row14_col0\" class=\"data row14 col0\" >Decision Tree Regressor</td>\n",
              "      <td id=\"T_fc5df_row14_col1\" class=\"data row14 col1\" >58.0196</td>\n",
              "      <td id=\"T_fc5df_row14_col2\" class=\"data row14 col2\" >7095.5952</td>\n",
              "      <td id=\"T_fc5df_row14_col3\" class=\"data row14 col3\" >83.3253</td>\n",
              "      <td id=\"T_fc5df_row14_col4\" class=\"data row14 col4\" >0.4731</td>\n",
              "      <td id=\"T_fc5df_row14_col5\" class=\"data row14 col5\" >0.3961</td>\n",
              "      <td id=\"T_fc5df_row14_col6\" class=\"data row14 col6\" >0.3206</td>\n",
              "      <td id=\"T_fc5df_row14_col7\" class=\"data row14 col7\" >0.0330</td>\n",
              "    </tr>\n",
              "    <tr>\n",
              "      <th id=\"T_fc5df_level0_row15\" class=\"row_heading level0 row15\" >knn</th>\n",
              "      <td id=\"T_fc5df_row15_col0\" class=\"data row15 col0\" >K Neighbors Regressor</td>\n",
              "      <td id=\"T_fc5df_row15_col1\" class=\"data row15 col1\" >78.7400</td>\n",
              "      <td id=\"T_fc5df_row15_col2\" class=\"data row15 col2\" >10675.8879</td>\n",
              "      <td id=\"T_fc5df_row15_col3\" class=\"data row15 col3\" >102.7276</td>\n",
              "      <td id=\"T_fc5df_row15_col4\" class=\"data row15 col4\" >0.2064</td>\n",
              "      <td id=\"T_fc5df_row15_col5\" class=\"data row15 col5\" >0.5206</td>\n",
              "      <td id=\"T_fc5df_row15_col6\" class=\"data row15 col6\" >0.4992</td>\n",
              "      <td id=\"T_fc5df_row15_col7\" class=\"data row15 col7\" >0.1270</td>\n",
              "    </tr>\n",
              "    <tr>\n",
              "      <th id=\"T_fc5df_level0_row16\" class=\"row_heading level0 row16\" >omp</th>\n",
              "      <td id=\"T_fc5df_row16_col0\" class=\"data row16 col0\" >Orthogonal Matching Pursuit</td>\n",
              "      <td id=\"T_fc5df_row16_col1\" class=\"data row16 col1\" >91.6093</td>\n",
              "      <td id=\"T_fc5df_row16_col2\" class=\"data row16 col2\" >13398.6294</td>\n",
              "      <td id=\"T_fc5df_row16_col3\" class=\"data row16 col3\" >115.5403</td>\n",
              "      <td id=\"T_fc5df_row16_col4\" class=\"data row16 col4\" >0.0038</td>\n",
              "      <td id=\"T_fc5df_row16_col5\" class=\"data row16 col5\" >0.5836</td>\n",
              "      <td id=\"T_fc5df_row16_col6\" class=\"data row16 col6\" >0.6189</td>\n",
              "      <td id=\"T_fc5df_row16_col7\" class=\"data row16 col7\" >0.0340</td>\n",
              "    </tr>\n",
              "    <tr>\n",
              "      <th id=\"T_fc5df_level0_row17\" class=\"row_heading level0 row17\" >dummy</th>\n",
              "      <td id=\"T_fc5df_row17_col0\" class=\"data row17 col0\" >Dummy Regressor</td>\n",
              "      <td id=\"T_fc5df_row17_col1\" class=\"data row17 col1\" >92.5637</td>\n",
              "      <td id=\"T_fc5df_row17_col2\" class=\"data row17 col2\" >13567.2371</td>\n",
              "      <td id=\"T_fc5df_row17_col3\" class=\"data row17 col3\" >116.2457</td>\n",
              "      <td id=\"T_fc5df_row17_col4\" class=\"data row17 col4\" >-0.0077</td>\n",
              "      <td id=\"T_fc5df_row17_col5\" class=\"data row17 col5\" >0.5906</td>\n",
              "      <td id=\"T_fc5df_row17_col6\" class=\"data row17 col6\" >0.6312</td>\n",
              "      <td id=\"T_fc5df_row17_col7\" class=\"data row17 col7\" >0.0450</td>\n",
              "    </tr>\n",
              "    <tr>\n",
              "      <th id=\"T_fc5df_level0_row18\" class=\"row_heading level0 row18\" >par</th>\n",
              "      <td id=\"T_fc5df_row18_col0\" class=\"data row18 col0\" >Passive Aggressive Regressor</td>\n",
              "      <td id=\"T_fc5df_row18_col1\" class=\"data row18 col1\" >100.2685</td>\n",
              "      <td id=\"T_fc5df_row18_col2\" class=\"data row18 col2\" >16836.1838</td>\n",
              "      <td id=\"T_fc5df_row18_col3\" class=\"data row18 col3\" >129.2111</td>\n",
              "      <td id=\"T_fc5df_row18_col4\" class=\"data row18 col4\" >-0.2678</td>\n",
              "      <td id=\"T_fc5df_row18_col5\" class=\"data row18 col5\" >0.7190</td>\n",
              "      <td id=\"T_fc5df_row18_col6\" class=\"data row18 col6\" >0.6802</td>\n",
              "      <td id=\"T_fc5df_row18_col7\" class=\"data row18 col7\" >0.0570</td>\n",
              "    </tr>\n",
              "  </tbody>\n",
              "</table>\n"
            ]
          },
          "metadata": {}
        },
        {
          "output_type": "display_data",
          "data": {
            "text/plain": [
              "Processing:   0%|          | 0/85 [00:00<?, ?it/s]"
            ],
            "application/vnd.jupyter.widget-view+json": {
              "version_major": 2,
              "version_minor": 0,
              "model_id": "8ee3b99ef5c44d74ba3d3c5ee9d713f3"
            }
          },
          "metadata": {
            "application/vnd.jupyter.widget-view+json": {
              "colab": {
                "custom_widget_manager": {
                  "url": "https://ssl.gstatic.com/colaboratory-static/widgets/colab-cdn-widget-manager/2b70e893a8ba7c0f/manager.min.js"
                }
              }
            }
          }
        },
        {
          "output_type": "display_data",
          "data": {
            "text/plain": [
              "<IPython.core.display.HTML object>"
            ],
            "text/html": []
          },
          "metadata": {}
        }
      ],
      "source": [
        "best = s.compare_models()"
      ]
    },
    {
      "cell_type": "code",
      "execution_count": null,
      "metadata": {
        "colab": {
          "base_uri": "https://localhost:8080/"
        },
        "id": "W4WcsU9cd2kk",
        "outputId": "6b4d055d-177e-487c-a8d7-f509818abad8"
      },
      "outputs": [
        {
          "output_type": "stream",
          "name": "stdout",
          "text": [
            "<catboost.core.CatBoostRegressor object at 0x7a9d427544f0>\n"
          ]
        }
      ],
      "source": [
        "print(best)"
      ]
    },
    {
      "cell_type": "code",
      "execution_count": null,
      "metadata": {
        "colab": {
          "base_uri": "https://localhost:8080/",
          "height": 485,
          "referenced_widgets": [
            "b663b8f170de46f18f48609997114843",
            "353b48f5e7744461b848e5797322e7c8",
            "a26953216faf43d283362f80d902afdb",
            "017d905676794e5c94630b9319639943",
            "3d929f63551d432ea1e7508341547fdb",
            "893f36d846bd4c43aa172883035e5a62",
            "098239c9e61749dca3074c6f9272f996"
          ]
        },
        "id": "PFvueZu4d43m",
        "outputId": "5df37d3c-8f25-43f3-9746-d97c5206a4a1"
      },
      "outputs": [
        {
          "output_type": "display_data",
          "data": {
            "text/plain": [
              "<Figure size 800x500 with 1 Axes>"
            ],
            "image/png": "[encoded data removed]"
          },
          "metadata": {}
        }
      ],
      "source": [
        "s.evaluate_model(best)"
      ]
    },
    {
      "cell_type": "code",
      "execution_count": null,
      "metadata": {
        "colab": {
          "base_uri": "https://localhost:8080/",
          "height": 485
        },
        "id": "91Ot-VTMd8BK",
        "outputId": "de7f10af-e4b4-4881-ac07-5af47499b737"
      },
      "outputs": [
        {
          "output_type": "display_data",
          "data": {
            "text/plain": [
              "<IPython.core.display.HTML object>"
            ],
            "text/html": []
          },
          "metadata": {}
        },
        {
          "output_type": "display_data",
          "data": {
            "text/plain": [
              "<Figure size 800x500 with 1 Axes>"
            ],
            "image/png": "[encoded data removed]"
          },
          "metadata": {}
        }
      ],
      "source": [
        "s.plot_model(best, plot = 'feature')"
      ]
    }
  ],
  "metadata": {
    "anaconda-cloud": {},
    "colab": {
      "provenance": [],
      "include_colab_link": true
    },
    "kernelspec": {
      "display_name": "Python 3 (ipykernel)",
      "language": "python",
      "name": "python3"
    },
    "language_info": {
      "codemirror_mode": {
        "name": "ipython",
        "version": 3
      },
      "file_extension": ".py",
      "mimetype": "text/x-python",
      "name": "python",
      "nbconvert_exporter": "python",
      "pygments_lexer": "ipython3",
      "version": "3.8.19"
    },
    "widgets": {
      "application/vnd.jupyter.widget-state+json": {
        "8ee3b99ef5c44d74ba3d3c5ee9d713f3": {
          "model_module": "@jupyter-widgets/controls",
          "model_name": "HBoxModel",
          "model_module_version": "1.5.0",
          "state": {
            "_dom_classes": [],
            "_model_module": "@jupyter-widgets/controls",
            "_model_module_version": "1.5.0",
            "_model_name": "HBoxModel",
            "_view_count": null,
            "_view_module": "@jupyter-widgets/controls",
            "_view_module_version": "1.5.0",
            "_view_name": "HBoxView",
            "box_style": "",
            "children": [
              "IPY_MODEL_8744941db6a04598862e4ec02d444074",
              "IPY_MODEL_8696b712e22d4a4cbee3036e8c087269",
              "IPY_MODEL_5977e26a02034906b049cde5c9376511"
            ],
            "layout": "IPY_MODEL_ade123a71d4548818d42d040514ed2d5"
          }
        },
        "8744941db6a04598862e4ec02d444074": {
          "model_module": "@jupyter-widgets/controls",
          "model_name": "HTMLModel",
          "model_module_version": "1.5.0",
          "state": {
            "_dom_classes": [],
            "_model_module": "@jupyter-widgets/controls",
            "_model_module_version": "1.5.0",
            "_model_name": "HTMLModel",
            "_view_count": null,
            "_view_module": "@jupyter-widgets/controls",
            "_view_module_version": "1.5.0",
            "_view_name": "HTMLView",
            "description": "",
            "description_tooltip": null,
            "layout": "IPY_MODEL_816821e7a94a4bc29223fb41e9084417",
            "placeholder": "​",
            "style": "IPY_MODEL_89250a737f774490908b157c6834fcda",
            "value": "Processing: 100%"
          }
        },
        "8696b712e22d4a4cbee3036e8c087269": {
          "model_module": "@jupyter-widgets/controls",
          "model_name": "FloatProgressModel",
          "model_module_version": "1.5.0",
          "state": {
            "_dom_classes": [],
            "_model_module": "@jupyter-widgets/controls",
            "_model_module_version": "1.5.0",
            "_model_name": "FloatProgressModel",
            "_view_count": null,
            "_view_module": "@jupyter-widgets/controls",
            "_view_module_version": "1.5.0",
            "_view_name": "ProgressView",
            "bar_style": "",
            "description": "",
            "description_tooltip": null,
            "layout": "IPY_MODEL_806138d105e64c5fa2d2fc601ec00185",
            "max": 85,
            "min": 0,
            "orientation": "horizontal",
            "style": "IPY_MODEL_75f60eb75bce4ae985b74148e4ee2dca",
            "value": 85
          }
        },
        "5977e26a02034906b049cde5c9376511": {
          "model_module": "@jupyter-widgets/controls",
          "model_name": "HTMLModel",
          "model_module_version": "1.5.0",
          "state": {
            "_dom_classes": [],
            "_model_module": "@jupyter-widgets/controls",
            "_model_module_version": "1.5.0",
            "_model_name": "HTMLModel",
            "_view_count": null,
            "_view_module": "@jupyter-widgets/controls",
            "_view_module_version": "1.5.0",
            "_view_name": "HTMLView",
            "description": "",
            "description_tooltip": null,
            "layout": "IPY_MODEL_d53d0a46bec74406831339909e965b39",
            "placeholder": "​",
            "style": "IPY_MODEL_872c2818cfdd408e8927ab826f2e105d",
            "value": " 85/85 [01:15&lt;00:00,  2.17s/it]"
          }
        },
        "ade123a71d4548818d42d040514ed2d5": {
          "model_module": "@jupyter-widgets/base",
          "model_name": "LayoutModel",
          "model_module_version": "1.2.0",
          "state": {
            "_model_module": "@jupyter-widgets/base",
            "_model_module_version": "1.2.0",
            "_model_name": "LayoutModel",
            "_view_count": null,
            "_view_module": "@jupyter-widgets/base",
            "_view_module_version": "1.2.0",
            "_view_name": "LayoutView",
            "align_content": null,
            "align_items": null,
            "align_self": null,
            "border": null,
            "bottom": null,
            "display": null,
            "flex": null,
            "flex_flow": null,
            "grid_area": null,
            "grid_auto_columns": null,
            "grid_auto_flow": null,
            "grid_auto_rows": null,
            "grid_column": null,
            "grid_gap": null,
            "grid_row": null,
            "grid_template_areas": null,
            "grid_template_columns": null,
            "grid_template_rows": null,
            "height": null,
            "justify_content": null,
            "justify_items": null,
            "left": null,
            "margin": null,
            "max_height": null,
            "max_width": null,
            "min_height": null,
            "min_width": null,
            "object_fit": null,
            "object_position": null,
            "order": null,
            "overflow": null,
            "overflow_x": null,
            "overflow_y": null,
            "padding": null,
            "right": null,
            "top": null,
            "visibility": "hidden",
            "width": null
          }
        },
        "816821e7a94a4bc29223fb41e9084417": {
          "model_module": "@jupyter-widgets/base",
          "model_name": "LayoutModel",
          "model_module_version": "1.2.0",
          "state": {
            "_model_module": "@jupyter-widgets/base",
            "_model_module_version": "1.2.0",
            "_model_name": "LayoutModel",
            "_view_count": null,
            "_view_module": "@jupyter-widgets/base",
            "_view_module_version": "1.2.0",
            "_view_name": "LayoutView",
            "align_content": null,
            "align_items": null,
            "align_self": null,
            "border": null,
            "bottom": null,
            "display": null,
            "flex": null,
            "flex_flow": null,
            "grid_area": null,
            "grid_auto_columns": null,
            "grid_auto_flow": null,
            "grid_auto_rows": null,
            "grid_column": null,
            "grid_gap": null,
            "grid_row": null,
            "grid_template_areas": null,
            "grid_template_columns": null,
            "grid_template_rows": null,
            "height": null,
            "justify_content": null,
            "justify_items": null,
            "left": null,
            "margin": null,
            "max_height": null,
            "max_width": null,
            "min_height": null,
            "min_width": null,
            "object_fit": null,
            "object_position": null,
            "order": null,
            "overflow": null,
            "overflow_x": null,
            "overflow_y": null,
            "padding": null,
            "right": null,
            "top": null,
            "visibility": null,
            "width": null
          }
        },
        "89250a737f774490908b157c6834fcda": {
          "model_module": "@jupyter-widgets/controls",
          "model_name": "DescriptionStyleModel",
          "model_module_version": "1.5.0",
          "state": {
            "_model_module": "@jupyter-widgets/controls",
            "_model_module_version": "1.5.0",
            "_model_name": "DescriptionStyleModel",
            "_view_count": null,
            "_view_module": "@jupyter-widgets/base",
            "_view_module_version": "1.2.0",
            "_view_name": "StyleView",
            "description_width": ""
          }
        },
        "806138d105e64c5fa2d2fc601ec00185": {
          "model_module": "@jupyter-widgets/base",
          "model_name": "LayoutModel",
          "model_module_version": "1.2.0",
          "state": {
            "_model_module": "@jupyter-widgets/base",
            "_model_module_version": "1.2.0",
            "_model_name": "LayoutModel",
            "_view_count": null,
            "_view_module": "@jupyter-widgets/base",
            "_view_module_version": "1.2.0",
            "_view_name": "LayoutView",
            "align_content": null,
            "align_items": null,
            "align_self": null,
            "border": null,
            "bottom": null,
            "display": null,
            "flex": null,
            "flex_flow": null,
            "grid_area": null,
            "grid_auto_columns": null,
            "grid_auto_flow": null,
            "grid_auto_rows": null,
            "grid_column": null,
            "grid_gap": null,
            "grid_row": null,
            "grid_template_areas": null,
            "grid_template_columns": null,
            "grid_template_rows": null,
            "height": null,
            "justify_content": null,
            "justify_items": null,
            "left": null,
            "margin": null,
            "max_height": null,
            "max_width": null,
            "min_height": null,
            "min_width": null,
            "object_fit": null,
            "object_position": null,
            "order": null,
            "overflow": null,
            "overflow_x": null,
            "overflow_y": null,
            "padding": null,
            "right": null,
            "top": null,
            "visibility": null,
            "width": null
          }
        },
        "75f60eb75bce4ae985b74148e4ee2dca": {
          "model_module": "@jupyter-widgets/controls",
          "model_name": "ProgressStyleModel",
          "model_module_version": "1.5.0",
          "state": {
            "_model_module": "@jupyter-widgets/controls",
            "_model_module_version": "1.5.0",
            "_model_name": "ProgressStyleModel",
            "_view_count": null,
            "_view_module": "@jupyter-widgets/base",
            "_view_module_version": "1.2.0",
            "_view_name": "StyleView",
            "bar_color": null,
            "description_width": ""
          }
        },
        "d53d0a46bec74406831339909e965b39": {
          "model_module": "@jupyter-widgets/base",
          "model_name": "LayoutModel",
          "model_module_version": "1.2.0",
          "state": {
            "_model_module": "@jupyter-widgets/base",
            "_model_module_version": "1.2.0",
            "_model_name": "LayoutModel",
            "_view_count": null,
            "_view_module": "@jupyter-widgets/base",
            "_view_module_version": "1.2.0",
            "_view_name": "LayoutView",
            "align_content": null,
            "align_items": null,
            "align_self": null,
            "border": null,
            "bottom": null,
            "display": null,
            "flex": null,
            "flex_flow": null,
            "grid_area": null,
            "grid_auto_columns": null,
            "grid_auto_flow": null,
            "grid_auto_rows": null,
            "grid_column": null,
            "grid_gap": null,
            "grid_row": null,
            "grid_template_areas": null,
            "grid_template_columns": null,
            "grid_template_rows": null,
            "height": null,
            "justify_content": null,
            "justify_items": null,
            "left": null,
            "margin": null,
            "max_height": null,
            "max_width": null,
            "min_height": null,
            "min_width": null,
            "object_fit": null,
            "object_position": null,
            "order": null,
            "overflow": null,
            "overflow_x": null,
            "overflow_y": null,
            "padding": null,
            "right": null,
            "top": null,
            "visibility": null,
            "width": null
          }
        },
        "872c2818cfdd408e8927ab826f2e105d": {
          "model_module": "@jupyter-widgets/controls",
          "model_name": "DescriptionStyleModel",
          "model_module_version": "1.5.0",
          "state": {
            "_model_module": "@jupyter-widgets/controls",
            "_model_module_version": "1.5.0",
            "_model_name": "DescriptionStyleModel",
            "_view_count": null,
            "_view_module": "@jupyter-widgets/base",
            "_view_module_version": "1.2.0",
            "_view_name": "StyleView",
            "description_width": ""
          }
        },
        "b663b8f170de46f18f48609997114843": {
          "model_module": "@jupyter-widgets/controls",
          "model_name": "VBoxModel",
          "model_module_version": "1.5.0",
          "state": {
            "_dom_classes": [
              "widget-interact"
            ],
            "_model_module": "@jupyter-widgets/controls",
            "_model_module_version": "1.5.0",
            "_model_name": "VBoxModel",
            "_view_count": null,
            "_view_module": "@jupyter-widgets/controls",
            "_view_module_version": "1.5.0",
            "_view_name": "VBoxView",
            "box_style": "",
            "children": [
              "IPY_MODEL_353b48f5e7744461b848e5797322e7c8",
              "IPY_MODEL_a26953216faf43d283362f80d902afdb"
            ],
            "layout": "IPY_MODEL_017d905676794e5c94630b9319639943"
          }
        },
        "353b48f5e7744461b848e5797322e7c8": {
          "model_module": "@jupyter-widgets/controls",
          "model_name": "ToggleButtonsModel",
          "model_module_version": "1.5.0",
          "state": {
            "_dom_classes": [],
            "_model_module": "@jupyter-widgets/controls",
            "_model_module_version": "1.5.0",
            "_model_name": "ToggleButtonsModel",
            "_options_labels": [
              "Pipeline Plot",
              "Hyperparameters",
              "Residuals",
              "Prediction Error",
              "Cooks Distance",
              "Feature Selection",
              "Learning Curve",
              "Manifold Learning",
              "Validation Curve",
              "Feature Importance",
              "Feature Importance (All)",
              "Decision Tree",
              "Interactive Residuals"
            ],
            "_view_count": null,
            "_view_module": "@jupyter-widgets/controls",
            "_view_module_version": "1.5.0",
            "_view_name": "ToggleButtonsView",
            "button_style": "",
            "description": "Plot Type:",
            "description_tooltip": null,
            "disabled": false,
            "icons": [
              ""
            ],
            "index": 10,
            "layout": "IPY_MODEL_3d929f63551d432ea1e7508341547fdb",
            "style": "IPY_MODEL_893f36d846bd4c43aa172883035e5a62",
            "tooltips": []
          }
        },
        "a26953216faf43d283362f80d902afdb": {
          "model_module": "@jupyter-widgets/output",
          "model_name": "OutputModel",
          "model_module_version": "1.0.0",
          "state": {
            "_dom_classes": [],
            "_model_module": "@jupyter-widgets/output",
            "_model_module_version": "1.0.0",
            "_model_name": "OutputModel",
            "_view_count": null,
            "_view_module": "@jupyter-widgets/output",
            "_view_module_version": "1.0.0",
            "_view_name": "OutputView",
            "layout": "IPY_MODEL_098239c9e61749dca3074c6f9272f996",
            "msg_id": "",
            "outputs": [
              {
                "output_type": "display_data",
                "data": {
                  "text/plain": "<Figure size 800x550 with 1 Axes>",
                  "image/png": "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\n"
                },
                "metadata": {}
              }
            ]
          }
        },
        "017d905676794e5c94630b9319639943": {
          "model_module": "@jupyter-widgets/base",
          "model_name": "LayoutModel",
          "model_module_version": "1.2.0",
          "state": {
            "_model_module": "@jupyter-widgets/base",
            "_model_module_version": "1.2.0",
            "_model_name": "LayoutModel",
            "_view_count": null,
            "_view_module": "@jupyter-widgets/base",
            "_view_module_version": "1.2.0",
            "_view_name": "LayoutView",
            "align_content": null,
            "align_items": null,
            "align_self": null,
            "border": null,
            "bottom": null,
            "display": null,
            "flex": null,
            "flex_flow": null,
            "grid_area": null,
            "grid_auto_columns": null,
            "grid_auto_flow": null,
            "grid_auto_rows": null,
            "grid_column": null,
            "grid_gap": null,
            "grid_row": null,
            "grid_template_areas": null,
            "grid_template_columns": null,
            "grid_template_rows": null,
            "height": null,
            "justify_content": null,
            "justify_items": null,
            "left": null,
            "margin": null,
            "max_height": null,
            "max_width": null,
            "min_height": null,
            "min_width": null,
            "object_fit": null,
            "object_position": null,
            "order": null,
            "overflow": null,
            "overflow_x": null,
            "overflow_y": null,
            "padding": null,
            "right": null,
            "top": null,
            "visibility": null,
            "width": null
          }
        },
        "3d929f63551d432ea1e7508341547fdb": {
          "model_module": "@jupyter-widgets/base",
          "model_name": "LayoutModel",
          "model_module_version": "1.2.0",
          "state": {
            "_model_module": "@jupyter-widgets/base",
            "_model_module_version": "1.2.0",
            "_model_name": "LayoutModel",
            "_view_count": null,
            "_view_module": "@jupyter-widgets/base",
            "_view_module_version": "1.2.0",
            "_view_name": "LayoutView",
            "align_content": null,
            "align_items": null,
            "align_self": null,
            "border": null,
            "bottom": null,
            "display": null,
            "flex": null,
            "flex_flow": null,
            "grid_area": null,
            "grid_auto_columns": null,
            "grid_auto_flow": null,
            "grid_auto_rows": null,
            "grid_column": null,
            "grid_gap": null,
            "grid_row": null,
            "grid_template_areas": null,
            "grid_template_columns": null,
            "grid_template_rows": null,
            "height": null,
            "justify_content": null,
            "justify_items": null,
            "left": null,
            "margin": null,
            "max_height": null,
            "max_width": null,
            "min_height": null,
            "min_width": null,
            "object_fit": null,
            "object_position": null,
            "order": null,
            "overflow": null,
            "overflow_x": null,
            "overflow_y": null,
            "padding": null,
            "right": null,
            "top": null,
            "visibility": null,
            "width": null
          }
        },
        "893f36d846bd4c43aa172883035e5a62": {
          "model_module": "@jupyter-widgets/controls",
          "model_name": "ToggleButtonsStyleModel",
          "model_module_version": "1.5.0",
          "state": {
            "_model_module": "@jupyter-widgets/controls",
            "_model_module_version": "1.5.0",
            "_model_name": "ToggleButtonsStyleModel",
            "_view_count": null,
            "_view_module": "@jupyter-widgets/base",
            "_view_module_version": "1.2.0",
            "_view_name": "StyleView",
            "button_width": "",
            "description_width": "",
            "font_weight": ""
          }
        },
        "098239c9e61749dca3074c6f9272f996": {
          "model_module": "@jupyter-widgets/base",
          "model_name": "LayoutModel",
          "model_module_version": "1.2.0",
          "state": {
            "_model_module": "@jupyter-widgets/base",
            "_model_module_version": "1.2.0",
            "_model_name": "LayoutModel",
            "_view_count": null,
            "_view_module": "@jupyter-widgets/base",
            "_view_module_version": "1.2.0",
            "_view_name": "LayoutView",
            "align_content": null,
            "align_items": null,
            "align_self": null,
            "border": null,
            "bottom": null,
            "display": null,
            "flex": null,
            "flex_flow": null,
            "grid_area": null,
            "grid_auto_columns": null,
            "grid_auto_flow": null,
            "grid_auto_rows": null,
            "grid_column": null,
            "grid_gap": null,
            "grid_row": null,
            "grid_template_areas": null,
            "grid_template_columns": null,
            "grid_template_rows": null,
            "height": null,
            "justify_content": null,
            "justify_items": null,
            "left": null,
            "margin": null,
            "max_height": null,
            "max_width": null,
            "min_height": null,
            "min_width": null,
            "object_fit": null,
            "object_position": null,
            "order": null,
            "overflow": null,
            "overflow_x": null,
            "overflow_y": null,
            "padding": null,
            "right": null,
            "top": null,
            "visibility": null,
            "width": null
          }
        }
      }
    }
  },
  "nbformat": 4,
  "nbformat_minor": 0
}